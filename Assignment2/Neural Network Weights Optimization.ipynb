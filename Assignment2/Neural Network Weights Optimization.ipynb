{
 "cells": [
  {
   "cell_type": "code",
   "execution_count": 1,
   "id": "5ad0111e",
   "metadata": {},
   "outputs": [],
   "source": [
    "import pandas as pd\n",
    "import numpy as np\n",
    "from sklearn.utils import shuffle\n",
    "from sklearn.model_selection import train_test_split\n",
    "from sklearn.preprocessing import scale\n",
    "from sklearn.metrics import accuracy_score, f1_score, recall_score\n",
    "from sklearn.preprocessing import StandardScaler\n",
    "from sklearn.model_selection import GridSearchCV\n",
    "import sys\n",
    "import timeit\n",
    "import six\n",
    "sys.modules['sklearn.externals.six'] = six\n",
    "import mlrose\n",
    "import mlrose_hiive\n",
    "import time\n",
    "import warnings\n",
    "from sklearn.neural_network import MLPClassifier\n",
    "warnings.filterwarnings('ignore')\n",
    "import matplotlib.pyplot as plt\n",
    "%matplotlib inline\n",
    "fig_path='D:/OMSCS/ml/Assignment2/figures'"
   ]
  },
  {
   "cell_type": "code",
   "execution_count": 2,
   "id": "34f83a16",
   "metadata": {},
   "outputs": [
    {
     "data": {
      "text/html": [
       "<div>\n",
       "<style scoped>\n",
       "    .dataframe tbody tr th:only-of-type {\n",
       "        vertical-align: middle;\n",
       "    }\n",
       "\n",
       "    .dataframe tbody tr th {\n",
       "        vertical-align: top;\n",
       "    }\n",
       "\n",
       "    .dataframe thead th {\n",
       "        text-align: right;\n",
       "    }\n",
       "</style>\n",
       "<table border=\"1\" class=\"dataframe\">\n",
       "  <thead>\n",
       "    <tr style=\"text-align: right;\">\n",
       "      <th></th>\n",
       "      <th>diagnosis</th>\n",
       "      <th>radius_mean</th>\n",
       "      <th>texture_mean</th>\n",
       "      <th>perimeter_mean</th>\n",
       "      <th>area_mean</th>\n",
       "      <th>smoothness_mean</th>\n",
       "      <th>compactness_mean</th>\n",
       "      <th>concavity_mean</th>\n",
       "      <th>concave points_mean</th>\n",
       "      <th>symmetry_mean</th>\n",
       "      <th>...</th>\n",
       "      <th>radius_worst</th>\n",
       "      <th>texture_worst</th>\n",
       "      <th>perimeter_worst</th>\n",
       "      <th>area_worst</th>\n",
       "      <th>smoothness_worst</th>\n",
       "      <th>compactness_worst</th>\n",
       "      <th>concavity_worst</th>\n",
       "      <th>concave points_worst</th>\n",
       "      <th>symmetry_worst</th>\n",
       "      <th>fractal_dimension_worst</th>\n",
       "    </tr>\n",
       "  </thead>\n",
       "  <tbody>\n",
       "    <tr>\n",
       "      <th>0</th>\n",
       "      <td>1.0</td>\n",
       "      <td>17.99</td>\n",
       "      <td>10.38</td>\n",
       "      <td>122.80</td>\n",
       "      <td>1001.0</td>\n",
       "      <td>0.11840</td>\n",
       "      <td>0.27760</td>\n",
       "      <td>0.3001</td>\n",
       "      <td>0.14710</td>\n",
       "      <td>0.2419</td>\n",
       "      <td>...</td>\n",
       "      <td>25.38</td>\n",
       "      <td>17.33</td>\n",
       "      <td>184.60</td>\n",
       "      <td>2019.0</td>\n",
       "      <td>0.1622</td>\n",
       "      <td>0.6656</td>\n",
       "      <td>0.7119</td>\n",
       "      <td>0.2654</td>\n",
       "      <td>0.4601</td>\n",
       "      <td>0.11890</td>\n",
       "    </tr>\n",
       "    <tr>\n",
       "      <th>1</th>\n",
       "      <td>1.0</td>\n",
       "      <td>20.57</td>\n",
       "      <td>17.77</td>\n",
       "      <td>132.90</td>\n",
       "      <td>1326.0</td>\n",
       "      <td>0.08474</td>\n",
       "      <td>0.07864</td>\n",
       "      <td>0.0869</td>\n",
       "      <td>0.07017</td>\n",
       "      <td>0.1812</td>\n",
       "      <td>...</td>\n",
       "      <td>24.99</td>\n",
       "      <td>23.41</td>\n",
       "      <td>158.80</td>\n",
       "      <td>1956.0</td>\n",
       "      <td>0.1238</td>\n",
       "      <td>0.1866</td>\n",
       "      <td>0.2416</td>\n",
       "      <td>0.1860</td>\n",
       "      <td>0.2750</td>\n",
       "      <td>0.08902</td>\n",
       "    </tr>\n",
       "    <tr>\n",
       "      <th>2</th>\n",
       "      <td>1.0</td>\n",
       "      <td>19.69</td>\n",
       "      <td>21.25</td>\n",
       "      <td>130.00</td>\n",
       "      <td>1203.0</td>\n",
       "      <td>0.10960</td>\n",
       "      <td>0.15990</td>\n",
       "      <td>0.1974</td>\n",
       "      <td>0.12790</td>\n",
       "      <td>0.2069</td>\n",
       "      <td>...</td>\n",
       "      <td>23.57</td>\n",
       "      <td>25.53</td>\n",
       "      <td>152.50</td>\n",
       "      <td>1709.0</td>\n",
       "      <td>0.1444</td>\n",
       "      <td>0.4245</td>\n",
       "      <td>0.4504</td>\n",
       "      <td>0.2430</td>\n",
       "      <td>0.3613</td>\n",
       "      <td>0.08758</td>\n",
       "    </tr>\n",
       "    <tr>\n",
       "      <th>3</th>\n",
       "      <td>1.0</td>\n",
       "      <td>11.42</td>\n",
       "      <td>20.38</td>\n",
       "      <td>77.58</td>\n",
       "      <td>386.1</td>\n",
       "      <td>0.14250</td>\n",
       "      <td>0.28390</td>\n",
       "      <td>0.2414</td>\n",
       "      <td>0.10520</td>\n",
       "      <td>0.2597</td>\n",
       "      <td>...</td>\n",
       "      <td>14.91</td>\n",
       "      <td>26.50</td>\n",
       "      <td>98.87</td>\n",
       "      <td>567.7</td>\n",
       "      <td>0.2098</td>\n",
       "      <td>0.8663</td>\n",
       "      <td>0.6869</td>\n",
       "      <td>0.2575</td>\n",
       "      <td>0.6638</td>\n",
       "      <td>0.17300</td>\n",
       "    </tr>\n",
       "    <tr>\n",
       "      <th>4</th>\n",
       "      <td>1.0</td>\n",
       "      <td>20.29</td>\n",
       "      <td>14.34</td>\n",
       "      <td>135.10</td>\n",
       "      <td>1297.0</td>\n",
       "      <td>0.10030</td>\n",
       "      <td>0.13280</td>\n",
       "      <td>0.1980</td>\n",
       "      <td>0.10430</td>\n",
       "      <td>0.1809</td>\n",
       "      <td>...</td>\n",
       "      <td>22.54</td>\n",
       "      <td>16.67</td>\n",
       "      <td>152.20</td>\n",
       "      <td>1575.0</td>\n",
       "      <td>0.1374</td>\n",
       "      <td>0.2050</td>\n",
       "      <td>0.4000</td>\n",
       "      <td>0.1625</td>\n",
       "      <td>0.2364</td>\n",
       "      <td>0.07678</td>\n",
       "    </tr>\n",
       "  </tbody>\n",
       "</table>\n",
       "<p>5 rows × 31 columns</p>\n",
       "</div>"
      ],
      "text/plain": [
       "   diagnosis  radius_mean  texture_mean  perimeter_mean  area_mean  \\\n",
       "0        1.0        17.99         10.38          122.80     1001.0   \n",
       "1        1.0        20.57         17.77          132.90     1326.0   \n",
       "2        1.0        19.69         21.25          130.00     1203.0   \n",
       "3        1.0        11.42         20.38           77.58      386.1   \n",
       "4        1.0        20.29         14.34          135.10     1297.0   \n",
       "\n",
       "   smoothness_mean  compactness_mean  concavity_mean  concave points_mean  \\\n",
       "0          0.11840           0.27760          0.3001              0.14710   \n",
       "1          0.08474           0.07864          0.0869              0.07017   \n",
       "2          0.10960           0.15990          0.1974              0.12790   \n",
       "3          0.14250           0.28390          0.2414              0.10520   \n",
       "4          0.10030           0.13280          0.1980              0.10430   \n",
       "\n",
       "   symmetry_mean  ...  radius_worst  texture_worst  perimeter_worst  \\\n",
       "0         0.2419  ...         25.38          17.33           184.60   \n",
       "1         0.1812  ...         24.99          23.41           158.80   \n",
       "2         0.2069  ...         23.57          25.53           152.50   \n",
       "3         0.2597  ...         14.91          26.50            98.87   \n",
       "4         0.1809  ...         22.54          16.67           152.20   \n",
       "\n",
       "   area_worst  smoothness_worst  compactness_worst  concavity_worst  \\\n",
       "0      2019.0            0.1622             0.6656           0.7119   \n",
       "1      1956.0            0.1238             0.1866           0.2416   \n",
       "2      1709.0            0.1444             0.4245           0.4504   \n",
       "3       567.7            0.2098             0.8663           0.6869   \n",
       "4      1575.0            0.1374             0.2050           0.4000   \n",
       "\n",
       "   concave points_worst  symmetry_worst  fractal_dimension_worst  \n",
       "0                0.2654          0.4601                  0.11890  \n",
       "1                0.1860          0.2750                  0.08902  \n",
       "2                0.2430          0.3613                  0.08758  \n",
       "3                0.2575          0.6638                  0.17300  \n",
       "4                0.1625          0.2364                  0.07678  \n",
       "\n",
       "[5 rows x 31 columns]"
      ]
     },
     "execution_count": 2,
     "metadata": {},
     "output_type": "execute_result"
    }
   ],
   "source": [
    "# load dataset[1] Breast Cancer Data\n",
    "df=pd.read_csv('D:/OMSCS/ml/Assignment1/data/cancer.csv')\n",
    "\n",
    "# drop un-needed columns\n",
    "df.drop(['id'], axis=1, inplace=True)\n",
    "df.drop(['Unnamed: 32'], axis=1, inplace=True)\n",
    "\n",
    "# update target variable from text to binary expression (Malignant to 1; benign to 0)\n",
    "df.loc[df['diagnosis'] == \"M\", 'diagnosis'] = 1\n",
    "df.loc[df['diagnosis'] == \"B\", 'diagnosis'] = 0\n",
    "\n",
    "# update the target column datatype from object to float otherwise cannot fit the data\n",
    "df['diagnosis'] = df['diagnosis'].astype(float)\n",
    "\n",
    "df.head()"
   ]
  },
  {
   "cell_type": "code",
   "execution_count": 3,
   "id": "fd48cf89",
   "metadata": {},
   "outputs": [
    {
     "name": "stdout",
     "output_type": "stream",
     "text": [
      "total number of examples in the dataset is: 569\n",
      "\n",
      "porpotion of Malignant cases is: 37.26% \n"
     ]
    }
   ],
   "source": [
    "id = 903657078\n",
    "\n",
    "# split dataset into training and testing\n",
    "x = df.drop(['diagnosis'], axis=1)\n",
    "y = df['diagnosis']\n",
    "x_train, x_test, y_train, y_test = train_test_split(x, y, test_size=0.2, random_state=id)\n",
    "\n",
    "# check the dataset size and target distribution\n",
    "print(\"total number of examples in the dataset is:\", x.shape[0])\n",
    "print()\n",
    "print(\"porpotion of Malignant cases is: %.2f%% \" % (y[y==1].shape[0]/y.shape[0]*100.0))\n",
    "\n",
    "# normalize the data\n",
    "ss = StandardScaler()\n",
    "x_train = ss.fit_transform(x_train)\n",
    "x_test= ss.transform(x_test)"
   ]
  },
  {
   "cell_type": "code",
   "execution_count": 4,
   "id": "1e3b294e",
   "metadata": {},
   "outputs": [
    {
     "data": {
      "text/plain": [
       "MLPClassifier(hidden_layer_sizes=(30,), learning_rate_init=0.01, max_iter=500,\n",
       "              random_state=903657078)"
      ]
     },
     "execution_count": 4,
     "metadata": {},
     "output_type": "execute_result"
    }
   ],
   "source": [
    "# set up the base model\n",
    "nn_clf = MLPClassifier(hidden_layer_sizes=(30, ), \n",
    "                       activation= 'relu', \n",
    "                       solver= 'adam',\n",
    "                       alpha= 0.0001, \n",
    "                       learning_rate_init=0.01, \n",
    "                       random_state=id,\n",
    "                       max_iter=500)\n",
    "nn_clf.fit(x_train, y_train)"
   ]
  },
  {
   "cell_type": "code",
   "execution_count": 6,
   "id": "dca852bd",
   "metadata": {},
   "outputs": [],
   "source": [
    "iterations_range = [2, 4, 8, 16, 32, 64, 128, 256, 512]\n",
    "rhc_loss=[]\n",
    "for iter in iterations_range:\n",
    "    nn_model_rhc = mlrose_hiive.NeuralNetwork(hidden_nodes=[30], \n",
    "                                              activation='relu',\n",
    "                                              algorithm='random_hill_climb', \n",
    "                                              max_iters=iter,\n",
    "                                              bias=True, \n",
    "                                              is_classifier=True, \n",
    "                                              learning_rate=0.01,\n",
    "                                              early_stopping=True, \n",
    "                                              clip_max=5,\n",
    "                                              max_attempts=500,\n",
    "                                              curve=True, \n",
    "                                              random_state=id)\n",
    "    nn_model_rhc.fit(x_train,y_train)\n",
    "    rhc_loss.append(nn_model_rhc.loss)"
   ]
  },
  {
   "cell_type": "code",
   "execution_count": 6,
   "id": "394e5f03",
   "metadata": {},
   "outputs": [],
   "source": [
    "sa_loss=[]\n",
    "for iter in iterations_range:\n",
    "    nn_model_sa = mlrose_hiive.NeuralNetwork(hidden_nodes=[30], \n",
    "                                             activation='relu',\n",
    "                                             algorithm='simulated_annealing', \n",
    "                                             max_iters=iter,\n",
    "                                             bias=True, \n",
    "                                             is_classifier=True, \n",
    "                                             learning_rate=0.01,\n",
    "                                             early_stopping=True, \n",
    "                                             clip_max=5,\n",
    "                                             schedule=mlrose_hiive.GeomDecay(init_temp=1),\n",
    "                                             max_attempts=500,\n",
    "                                             curve=True, \n",
    "                                             random_state=id)\n",
    "    nn_model_sa.fit(x_train,y_train)\n",
    "    sa_loss.append(nn_model_sa.loss)"
   ]
  },
  {
   "cell_type": "code",
   "execution_count": 7,
   "id": "3341f56a",
   "metadata": {},
   "outputs": [],
   "source": [
    "ga_loss=[]\n",
    "for iter in iterations_range:\n",
    "    nn_model_ga = mlrose_hiive.NeuralNetwork(hidden_nodes=[30], \n",
    "                                             activation='relu',\n",
    "                                             algorithm='genetic_alg', \n",
    "                                             max_iters=iter,\n",
    "                                             bias=True, \n",
    "                                             is_classifier=True, \n",
    "                                             learning_rate=0.01,\n",
    "                                             early_stopping=True, \n",
    "                                             clip_max=5,\n",
    "                                             max_attempts=500,\n",
    "                                             pop_size=100,\n",
    "                                             mutation_prob=0.5,\n",
    "                                             curve=True,\n",
    "                                             random_state=id)\n",
    "    nn_model_ga.fit(x_train,y_train)\n",
    "    ga_loss.append(nn_model_ga.loss)"
   ]
  },
  {
   "cell_type": "code",
   "execution_count": 8,
   "id": "6713a70b",
   "metadata": {},
   "outputs": [
    {
     "data": {
      "image/png": "[encoded data removed]",
      "text/plain": [
       "<Figure size 576x432 with 1 Axes>"
      ]
     },
     "metadata": {
      "needs_background": "light"
     },
     "output_type": "display_data"
    }
   ],
   "source": [
    "plt.figure(figsize=(8, 6))\n",
    "plt.plot(nn_model_rhc.fitness_curve[:,0], color=\"r\", label='Random Hill Climbing')\n",
    "plt.plot(nn_model_sa.fitness_curve[:,0], color=\"m\", label='Simulated Annealing')\n",
    "plt.plot(nn_model_ga.fitness_curve[:,0], color=\"b\", label='Genetic Algorithms')\n",
    "plt.title('Fitness at each training iteration on Breast Cancer dataset')\n",
    "plt.xlabel('Number of Iterations')\n",
    "plt.ylabel('Fitness', color='g')\n",
    "plt.legend(loc=\"best\")\n",
    "plt.grid()"
   ]
  },
  {
   "cell_type": "code",
   "execution_count": 9,
   "id": "16440519",
   "metadata": {},
   "outputs": [
    {
     "data": {
      "image/png": "[encoded data removed]",
      "text/plain": [
       "<Figure size 576x432 with 1 Axes>"
      ]
     },
     "metadata": {
      "needs_background": "light"
     },
     "output_type": "display_data"
    }
   ],
   "source": [
    "plt.figure(figsize=(8, 6))\n",
    "plt.plot(iterations_range, rhc_loss, color=\"r\", label='Random Hill Climbing')\n",
    "plt.plot(iterations_range, sa_loss, color=\"m\", label='Simulated Annealing')\n",
    "plt.plot(iterations_range, ga_loss, color=\"b\", label='Genetic Algorithms')\n",
    "plt.title('Loss at each training iteration on Breast Cancer dataset')\n",
    "plt.xlabel('Number of Iterations')\n",
    "plt.ylabel('Loss', color='g')\n",
    "plt.legend(loc=\"best\")\n",
    "plt.grid()"
   ]
  },
  {
   "cell_type": "code",
   "execution_count": 10,
   "id": "520d8fe5",
   "metadata": {},
   "outputs": [],
   "source": [
    "time_dict = dict()\n",
    "test_dict = dict()"
   ]
  },
  {
   "cell_type": "code",
   "execution_count": 11,
   "id": "2e7fb4d5",
   "metadata": {},
   "outputs": [],
   "source": [
    "start_time = time.time()\n",
    "nn_clf.fit(x_train, y_train)\n",
    "end_time = time.time()\n",
    "time_taken = end_time - start_time\n",
    "time_dict['Base_Neural_Network'] = [time_taken]\n",
    "\n",
    "start_time = time.time()\n",
    "nn_clf.predict(x_test)\n",
    "end_time = time.time()\n",
    "time_taken = end_time - start_time\n",
    "test_dict['Base_Neural_Network'] = [time_taken]"
   ]
  },
  {
   "cell_type": "code",
   "execution_count": 12,
   "id": "e32c2a0e",
   "metadata": {},
   "outputs": [],
   "source": [
    "start_time = time.time()\n",
    "nn_model_rhc.fit(x_train, y_train)\n",
    "end_time = time.time()\n",
    "time_taken = end_time - start_time\n",
    "time_dict['Random_Hill_Climb'] = [time_taken]\n",
    "\n",
    "start_time = time.time()\n",
    "nn_model_rhc.predict(x_test)\n",
    "end_time = time.time()\n",
    "time_taken = end_time - start_time\n",
    "test_dict['Random_Hill_Climb'] = [time_taken]"
   ]
  },
  {
   "cell_type": "code",
   "execution_count": 13,
   "id": "f59cdffe",
   "metadata": {},
   "outputs": [],
   "source": [
    "start_time = time.time()\n",
    "nn_model_sa.fit(x_train, y_train)\n",
    "end_time = time.time()\n",
    "time_taken = end_time - start_time\n",
    "time_dict['Simulated_Annealing'] = [time_taken]\n",
    "\n",
    "start_time = time.time()\n",
    "nn_model_sa.predict(x_test)\n",
    "end_time = time.time()\n",
    "time_taken = end_time - start_time\n",
    "test_dict['Simulated_Annealing'] = [time_taken]"
   ]
  },
  {
   "cell_type": "code",
   "execution_count": 14,
   "id": "d46a8383",
   "metadata": {},
   "outputs": [],
   "source": [
    "start_time = time.time()\n",
    "nn_model_ga.fit(x_train, y_train)\n",
    "end_time = time.time()\n",
    "time_taken = end_time - start_time\n",
    "time_dict['Genetic_Algorithms'] = [time_taken]\n",
    "\n",
    "start_time = time.time()\n",
    "nn_model_ga.predict(x_test)\n",
    "end_time = time.time()\n",
    "time_taken = end_time - start_time\n",
    "test_dict['Genetic_Algorithms'] = [time_taken]"
   ]
  },
  {
   "cell_type": "code",
   "execution_count": 66,
   "id": "175ca601",
   "metadata": {},
   "outputs": [],
   "source": [
    "clf_dict = {'Base_Neural_Network': nn_clf,\n",
    "            'Random_Hill_Climb': nn_model_rhc, \n",
    "            'Simulated_Annealing': nn_model_sa, \n",
    "            'Genetic_Algorithms': nn_model_ga}"
   ]
  },
  {
   "cell_type": "code",
   "execution_count": 67,
   "id": "3d9ea811",
   "metadata": {},
   "outputs": [],
   "source": [
    "def fun(clf_dict, x_train, y_train, x_test, y_test):\n",
    "    d = dict()\n",
    "    for i in clf_dict.keys():\n",
    "        l = list()\n",
    "        train_pred = clf_dict[i].predict(x_train)\n",
    "        auc_score = accuracy_score(y_train, train_pred)\n",
    "        l.append(auc_score)\n",
    "        \n",
    "        test_pred = clf_dict[i].predict(x_test)\n",
    "        auc_score = accuracy_score(y_test, test_pred)\n",
    "        l.append(auc_score)\n",
    "        \n",
    "        # Adding difference of score (train-test)\n",
    "        diff = l[0]-l[1]\n",
    "        l.append(diff)\n",
    "        \n",
    "        d[i] = l\n",
    "        \n",
    "    return d"
   ]
  },
  {
   "cell_type": "code",
   "execution_count": 68,
   "id": "6ea540cb",
   "metadata": {},
   "outputs": [
    {
     "ename": "IndexError",
     "evalue": "list index out of range",
     "output_type": "error",
     "traceback": [
      "\u001b[1;31m---------------------------------------------------------------------------\u001b[0m",
      "\u001b[1;31mIndexError\u001b[0m                                Traceback (most recent call last)",
      "\u001b[1;32m<ipython-input-68-b6144517b5e4>\u001b[0m in \u001b[0;36m<module>\u001b[1;34m\u001b[0m\n\u001b[0;32m      1\u001b[0m \u001b[1;31m# Calling the above function fun() to predict and then compare roc_auc score of different models\u001b[0m\u001b[1;33m\u001b[0m\u001b[1;33m\u001b[0m\u001b[1;33m\u001b[0m\u001b[0m\n\u001b[1;32m----> 2\u001b[1;33m \u001b[0mscores\u001b[0m \u001b[1;33m=\u001b[0m \u001b[0mfun\u001b[0m\u001b[1;33m(\u001b[0m\u001b[0mclf_dict\u001b[0m\u001b[1;33m,\u001b[0m \u001b[0mx_train\u001b[0m\u001b[1;33m,\u001b[0m \u001b[0my_train\u001b[0m\u001b[1;33m,\u001b[0m \u001b[0mx_test\u001b[0m\u001b[1;33m,\u001b[0m \u001b[0my_test\u001b[0m\u001b[1;33m)\u001b[0m\u001b[1;33m\u001b[0m\u001b[1;33m\u001b[0m\u001b[0m\n\u001b[0m",
      "\u001b[1;32m<ipython-input-67-2f92cca21b34>\u001b[0m in \u001b[0;36mfun\u001b[1;34m(clf_dict, x_train, y_train, x_test, y_test)\u001b[0m\n\u001b[0;32m      3\u001b[0m     \u001b[1;32mfor\u001b[0m \u001b[0mi\u001b[0m \u001b[1;32min\u001b[0m \u001b[0mclf_dict\u001b[0m\u001b[1;33m.\u001b[0m\u001b[0mkeys\u001b[0m\u001b[1;33m(\u001b[0m\u001b[1;33m)\u001b[0m\u001b[1;33m:\u001b[0m\u001b[1;33m\u001b[0m\u001b[1;33m\u001b[0m\u001b[0m\n\u001b[0;32m      4\u001b[0m         \u001b[0ml\u001b[0m \u001b[1;33m=\u001b[0m \u001b[0mlist\u001b[0m\u001b[1;33m(\u001b[0m\u001b[1;33m)\u001b[0m\u001b[1;33m\u001b[0m\u001b[1;33m\u001b[0m\u001b[0m\n\u001b[1;32m----> 5\u001b[1;33m         \u001b[0mtrain_pred\u001b[0m \u001b[1;33m=\u001b[0m \u001b[0mclf_dict\u001b[0m\u001b[1;33m[\u001b[0m\u001b[0mi\u001b[0m\u001b[1;33m]\u001b[0m\u001b[1;33m.\u001b[0m\u001b[0mpredict\u001b[0m\u001b[1;33m(\u001b[0m\u001b[0mx_train\u001b[0m\u001b[1;33m)\u001b[0m\u001b[1;33m\u001b[0m\u001b[1;33m\u001b[0m\u001b[0m\n\u001b[0m\u001b[0;32m      6\u001b[0m         \u001b[0mauc_score\u001b[0m \u001b[1;33m=\u001b[0m \u001b[0maccuracy_score\u001b[0m\u001b[1;33m(\u001b[0m\u001b[0my_train\u001b[0m\u001b[1;33m,\u001b[0m \u001b[0mtrain_pred\u001b[0m\u001b[1;33m)\u001b[0m\u001b[1;33m\u001b[0m\u001b[1;33m\u001b[0m\u001b[0m\n\u001b[0;32m      7\u001b[0m         \u001b[0ml\u001b[0m\u001b[1;33m.\u001b[0m\u001b[0mappend\u001b[0m\u001b[1;33m(\u001b[0m\u001b[0mauc_score\u001b[0m\u001b[1;33m)\u001b[0m\u001b[1;33m\u001b[0m\u001b[1;33m\u001b[0m\u001b[0m\n",
      "\u001b[1;32mD:\\App\\anaconda3\\lib\\site-packages\\mlrose_hiive\\neural\\_nn_core.py\u001b[0m in \u001b[0;36mpredict\u001b[1;34m(self, X)\u001b[0m\n\u001b[0;32m    275\u001b[0m             \u001b[0mNumpy\u001b[0m \u001b[0marray\u001b[0m \u001b[0mcontaining\u001b[0m \u001b[0mpredicted\u001b[0m \u001b[0mdata\u001b[0m \u001b[0mlabels\u001b[0m\u001b[1;33m.\u001b[0m\u001b[1;33m\u001b[0m\u001b[1;33m\u001b[0m\u001b[0m\n\u001b[0;32m    276\u001b[0m         \"\"\"\n\u001b[1;32m--> 277\u001b[1;33m         \u001b[1;32mif\u001b[0m \u001b[1;32mnot\u001b[0m \u001b[0mnp\u001b[0m\u001b[1;33m.\u001b[0m\u001b[0mshape\u001b[0m\u001b[1;33m(\u001b[0m\u001b[0mX\u001b[0m\u001b[1;33m)\u001b[0m\u001b[1;33m[\u001b[0m\u001b[1;36m1\u001b[0m\u001b[1;33m]\u001b[0m \u001b[1;33m==\u001b[0m \u001b[1;33m(\u001b[0m\u001b[0mself\u001b[0m\u001b[1;33m.\u001b[0m\u001b[0mnode_list\u001b[0m\u001b[1;33m[\u001b[0m\u001b[1;36m0\u001b[0m\u001b[1;33m]\u001b[0m \u001b[1;33m-\u001b[0m \u001b[0mself\u001b[0m\u001b[1;33m.\u001b[0m\u001b[0mbias\u001b[0m\u001b[1;33m)\u001b[0m\u001b[1;33m:\u001b[0m\u001b[1;33m\u001b[0m\u001b[1;33m\u001b[0m\u001b[0m\n\u001b[0m\u001b[0;32m    278\u001b[0m             raise Exception(\"\"\"The number of columns in X must equal %d\"\"\"\n\u001b[0;32m    279\u001b[0m                             % ((self.node_list[0] - self.bias),))\n",
      "\u001b[1;31mIndexError\u001b[0m: list index out of range"
     ]
    }
   ],
   "source": [
    "# Calling the above function fun() to predict and then compare roc_auc score of different models\n",
    "scores = fun(clf_dict, x_train, y_train, x_test, y_test)"
   ]
  },
  {
   "cell_type": "code",
   "execution_count": 18,
   "id": "202a3299",
   "metadata": {},
   "outputs": [
    {
     "data": {
      "text/html": [
       "<div>\n",
       "<style scoped>\n",
       "    .dataframe tbody tr th:only-of-type {\n",
       "        vertical-align: middle;\n",
       "    }\n",
       "\n",
       "    .dataframe tbody tr th {\n",
       "        vertical-align: top;\n",
       "    }\n",
       "\n",
       "    .dataframe thead th {\n",
       "        text-align: right;\n",
       "    }\n",
       "</style>\n",
       "<table border=\"1\" class=\"dataframe\">\n",
       "  <thead>\n",
       "    <tr style=\"text-align: right;\">\n",
       "      <th></th>\n",
       "      <th>Base_Neural_Network</th>\n",
       "      <th>Random_Hill_Climb</th>\n",
       "      <th>Simulated_Annealing</th>\n",
       "      <th>Genetic_Algorithms</th>\n",
       "    </tr>\n",
       "  </thead>\n",
       "  <tbody>\n",
       "    <tr>\n",
       "      <th>Train_Accuracy_Score</th>\n",
       "      <td>1.000000</td>\n",
       "      <td>0.641758</td>\n",
       "      <td>0.635165</td>\n",
       "      <td>0.956044</td>\n",
       "    </tr>\n",
       "    <tr>\n",
       "      <th>Test_Accuracy_Score</th>\n",
       "      <td>0.938596</td>\n",
       "      <td>0.640351</td>\n",
       "      <td>0.614035</td>\n",
       "      <td>0.964912</td>\n",
       "    </tr>\n",
       "    <tr>\n",
       "      <th>Accuracy_Difference</th>\n",
       "      <td>0.061404</td>\n",
       "      <td>0.001407</td>\n",
       "      <td>0.021130</td>\n",
       "      <td>-0.008868</td>\n",
       "    </tr>\n",
       "  </tbody>\n",
       "</table>\n",
       "</div>"
      ],
      "text/plain": [
       "                      Base_Neural_Network  Random_Hill_Climb  \\\n",
       "Train_Accuracy_Score             1.000000           0.641758   \n",
       "Test_Accuracy_Score              0.938596           0.640351   \n",
       "Accuracy_Difference              0.061404           0.001407   \n",
       "\n",
       "                      Simulated_Annealing  Genetic_Algorithms  \n",
       "Train_Accuracy_Score             0.635165            0.956044  \n",
       "Test_Accuracy_Score              0.614035            0.964912  \n",
       "Accuracy_Difference              0.021130           -0.008868  "
      ]
     },
     "execution_count": 18,
     "metadata": {},
     "output_type": "execute_result"
    }
   ],
   "source": [
    "df = pd.DataFrame.from_dict(scores)\n",
    "df = df.rename(index = {0:'Train_Accuracy_Score', 1:'Test_Accuracy_Score', 2:'Accuracy_Difference'})\n",
    "df"
   ]
  },
  {
   "cell_type": "code",
   "execution_count": 19,
   "id": "8cf1948b",
   "metadata": {},
   "outputs": [
    {
     "data": {
      "text/plain": [
       "Text(0.5, 1.0, 'Accuracy Score of base neural network & randomized optimization')"
      ]
     },
     "execution_count": 19,
     "metadata": {},
     "output_type": "execute_result"
    },
    {
     "data": {
      "image/png": "[encoded data removed]",
      "text/plain": [
       "<Figure size 576x432 with 1 Axes>"
      ]
     },
     "metadata": {
      "needs_background": "light"
     },
     "output_type": "display_data"
    }
   ],
   "source": [
    "df.plot(kind='barh', figsize=(8, 6), zorder=2, width=0.85)\n",
    "plt.xlabel('Accuracy Score')\n",
    "plt.title('Accuracy Score of base neural network & randomized optimization')"
   ]
  },
  {
   "cell_type": "code",
   "execution_count": 20,
   "id": "79ad01ae",
   "metadata": {},
   "outputs": [],
   "source": [
    "def fun(clf_dict, x_train, y_train, x_test, y_test):\n",
    "    d = dict()\n",
    "    for i in clf_dict.keys():\n",
    "        l = list()\n",
    "        train_pred = clf_dict[i].predict(x_train)\n",
    "        f1 = f1_score(y_train, train_pred)\n",
    "        l.append(f1)\n",
    "        \n",
    "        test_pred = clf_dict[i].predict(x_test)\n",
    "        f1 = f1_score(y_test, test_pred)\n",
    "        l.append(f1)\n",
    "        \n",
    "        # Adding difference of score (train-test)\n",
    "        diff = l[0]-l[1]\n",
    "        l.append(diff)\n",
    "        \n",
    "        d[i] = l\n",
    "        \n",
    "    return d\n",
    "\n",
    "# Calling the above function fun() to predict and then compare roc_auc score of different models\n",
    "scores = fun(clf_dict, x_train, y_train, x_test, y_test)\n",
    "df = pd.DataFrame.from_dict(scores)\n",
    "df = df.rename(index = {0:'Train_F1_Score', 1:'Test_F1_Score', 2:'F1_Difference'})\n",
    "df\n",
    "\n",
    "df.plot(kind='barh', figsize=(8, 6), zorder=2, width=0.85)\n",
    "plt.xlabel('F1 Score')\n",
    "plt.title('F1 Score of base neural network & randomized optimization')"
   ]
  },
  {
   "cell_type": "code",
   "execution_count": 21,
   "id": "a1bb92aa",
   "metadata": {},
   "outputs": [
    {
     "data": {
      "text/html": [
       "<div>\n",
       "<style scoped>\n",
       "    .dataframe tbody tr th:only-of-type {\n",
       "        vertical-align: middle;\n",
       "    }\n",
       "\n",
       "    .dataframe tbody tr th {\n",
       "        vertical-align: top;\n",
       "    }\n",
       "\n",
       "    .dataframe thead th {\n",
       "        text-align: right;\n",
       "    }\n",
       "</style>\n",
       "<table border=\"1\" class=\"dataframe\">\n",
       "  <thead>\n",
       "    <tr style=\"text-align: right;\">\n",
       "      <th></th>\n",
       "      <th>Base_Neural_Network</th>\n",
       "      <th>Random_Hill_Climb</th>\n",
       "      <th>Simulated_Annealing</th>\n",
       "      <th>Genetic_Algorithms</th>\n",
       "    </tr>\n",
       "  </thead>\n",
       "  <tbody>\n",
       "    <tr>\n",
       "      <th>Train_F1_Score</th>\n",
       "      <td>1.000000</td>\n",
       "      <td>0.220096</td>\n",
       "      <td>0.194175</td>\n",
       "      <td>0.942197</td>\n",
       "    </tr>\n",
       "    <tr>\n",
       "      <th>Test_F1_Score</th>\n",
       "      <td>0.915663</td>\n",
       "      <td>0.280702</td>\n",
       "      <td>0.185185</td>\n",
       "      <td>0.955556</td>\n",
       "    </tr>\n",
       "    <tr>\n",
       "      <th>F1_Difference</th>\n",
       "      <td>0.084337</td>\n",
       "      <td>-0.060606</td>\n",
       "      <td>0.008990</td>\n",
       "      <td>-0.013359</td>\n",
       "    </tr>\n",
       "  </tbody>\n",
       "</table>\n",
       "</div>"
      ],
      "text/plain": [
       "                Base_Neural_Network  Random_Hill_Climb  Simulated_Annealing  \\\n",
       "Train_F1_Score             1.000000           0.220096             0.194175   \n",
       "Test_F1_Score              0.915663           0.280702             0.185185   \n",
       "F1_Difference              0.084337          -0.060606             0.008990   \n",
       "\n",
       "                Genetic_Algorithms  \n",
       "Train_F1_Score            0.942197  \n",
       "Test_F1_Score             0.955556  \n",
       "F1_Difference            -0.013359  "
      ]
     },
     "execution_count": 21,
     "metadata": {},
     "output_type": "execute_result"
    }
   ],
   "source": [
    "# Calling the above function fun() to predict and then compare roc_auc score of different models\n",
    "scores = fun(clf_dict, x_train, y_train, x_test, y_test)\n",
    "df = pd.DataFrame.from_dict(scores)\n",
    "df = df.rename(index = {0:'Train_F1_Score', 1:'Test_F1_Score', 2:'F1_Difference'})\n",
    "df"
   ]
  },
  {
   "cell_type": "code",
   "execution_count": 22,
   "id": "a593931f",
   "metadata": {},
   "outputs": [
    {
     "data": {
      "text/plain": [
       "Text(0.5, 1.0, 'F1 Score of base neural network & randomized optimization')"
      ]
     },
     "execution_count": 22,
     "metadata": {},
     "output_type": "execute_result"
    },
    {
     "data": {
      "image/png": "[encoded data removed]",
      "text/plain": [
       "<Figure size 576x432 with 1 Axes>"
      ]
     },
     "metadata": {
      "needs_background": "light"
     },
     "output_type": "display_data"
    }
   ],
   "source": [
    "df.plot(kind='barh', figsize=(8, 6), zorder=2, width=0.85)\n",
    "plt.xlabel('F1 Score')\n",
    "plt.title('F1 Score of base neural network & randomized optimization')"
   ]
  },
  {
   "cell_type": "code",
   "execution_count": 23,
   "id": "4badea5f",
   "metadata": {},
   "outputs": [
    {
     "data": {
      "text/html": [
       "<div>\n",
       "<style scoped>\n",
       "    .dataframe tbody tr th:only-of-type {\n",
       "        vertical-align: middle;\n",
       "    }\n",
       "\n",
       "    .dataframe tbody tr th {\n",
       "        vertical-align: top;\n",
       "    }\n",
       "\n",
       "    .dataframe thead th {\n",
       "        text-align: right;\n",
       "    }\n",
       "</style>\n",
       "<table border=\"1\" class=\"dataframe\">\n",
       "  <thead>\n",
       "    <tr style=\"text-align: right;\">\n",
       "      <th></th>\n",
       "      <th>training_time</th>\n",
       "    </tr>\n",
       "  </thead>\n",
       "  <tbody>\n",
       "    <tr>\n",
       "      <th>Base_Neural_Network</th>\n",
       "      <td>0.121874</td>\n",
       "    </tr>\n",
       "    <tr>\n",
       "      <th>Random_Hill_Climb</th>\n",
       "      <td>0.668607</td>\n",
       "    </tr>\n",
       "    <tr>\n",
       "      <th>Simulated_Annealing</th>\n",
       "      <td>0.886132</td>\n",
       "    </tr>\n",
       "    <tr>\n",
       "      <th>Genetic_Algorithms</th>\n",
       "      <td>82.010907</td>\n",
       "    </tr>\n",
       "  </tbody>\n",
       "</table>\n",
       "</div>"
      ],
      "text/plain": [
       "                     training_time\n",
       "Base_Neural_Network       0.121874\n",
       "Random_Hill_Climb         0.668607\n",
       "Simulated_Annealing       0.886132\n",
       "Genetic_Algorithms       82.010907"
      ]
     },
     "execution_count": 23,
     "metadata": {},
     "output_type": "execute_result"
    }
   ],
   "source": [
    "times = pd.DataFrame.from_dict(time_dict).T\n",
    "times = times.rename(index = str, columns = {0:'training_time'})\n",
    "times"
   ]
  },
  {
   "cell_type": "code",
   "execution_count": 24,
   "id": "39873791",
   "metadata": {},
   "outputs": [
    {
     "data": {
      "text/plain": [
       "Text(0, 0.5, 'Training Time')"
      ]
     },
     "execution_count": 24,
     "metadata": {},
     "output_type": "execute_result"
    },
    {
     "data": {
      "image/png": "[encoded data removed]",
      "text/plain": [
       "<Figure size 576x432 with 1 Axes>"
      ]
     },
     "metadata": {
      "needs_background": "light"
     },
     "output_type": "display_data"
    }
   ],
   "source": [
    "figure = times.plot(kind = 'bar', title = 'Training time of all algorithms', figsize = (8, 6), fontsize = 8)\n",
    "plt.xticks(rotation = 360)\n",
    "plt.ylabel('Training Time')"
   ]
  },
  {
   "cell_type": "code",
   "execution_count": null,
   "id": "767f1224",
   "metadata": {},
   "outputs": [],
   "source": []
  },
  {
   "cell_type": "code",
   "execution_count": null,
   "id": "34f71e28",
   "metadata": {},
   "outputs": [],
   "source": []
  },
  {
   "cell_type": "markdown",
   "id": "3ae36d20",
   "metadata": {},
   "source": [
    "# RHC"
   ]
  },
  {
   "cell_type": "code",
   "execution_count": 5,
   "id": "baa62024",
   "metadata": {},
   "outputs": [],
   "source": [
    "iterations_range = np.arange(1000, 20000, 2000).tolist()\n",
    "rhc_loss=[]\n",
    "for iter in iterations_range:\n",
    "    nn_model_rhc = mlrose_hiive.NeuralNetwork(hidden_nodes=[30], \n",
    "                                              activation='relu',\n",
    "                                              algorithm='random_hill_climb', \n",
    "                                              max_iters=iter,\n",
    "                                              bias=True, \n",
    "                                              is_classifier=True, \n",
    "                                              learning_rate=0.01,\n",
    "                                              early_stopping=True,\n",
    "                                              max_attempts=500,\n",
    "                                              curve=True, \n",
    "                                              random_state=id)\n",
    "    nn_model_rhc.fit(x_train,y_train)\n",
    "    rhc_loss.append(nn_model_rhc.loss)"
   ]
  },
  {
   "cell_type": "code",
   "execution_count": 6,
   "id": "b3782a50",
   "metadata": {},
   "outputs": [
    {
     "data": {
      "image/png": "[encoded data removed]",
      "text/plain": [
       "<Figure size 576x432 with 1 Axes>"
      ]
     },
     "metadata": {
      "needs_background": "light"
     },
     "output_type": "display_data"
    }
   ],
   "source": [
    "plt.figure(figsize=(8, 6))\n",
    "plt.plot(iterations_range, rhc_loss, color=\"r\", label='Random Hill Climbing')\n",
    "plt.title('Loss at each training iteration on Breast Cancer dataset')\n",
    "plt.xlabel('Number of Iterations')\n",
    "plt.ylabel('Loss', color='r')\n",
    "plt.legend(loc=\"best\")\n",
    "plt.grid()\n",
    "plt.savefig(fig_path+'RHC_loss_iteration.png')"
   ]
  },
  {
   "cell_type": "code",
   "execution_count": 7,
   "id": "71feb095",
   "metadata": {},
   "outputs": [
    {
     "name": "stderr",
     "output_type": "stream",
     "text": [
      "No handles with labels found to put in legend.\n"
     ]
    },
    {
     "data": {
      "image/png": "[encoded data removed]",
      "text/plain": [
       "<Figure size 432x288 with 1 Axes>"
      ]
     },
     "metadata": {
      "needs_background": "light"
     },
     "output_type": "display_data"
    }
   ],
   "source": [
    "restarts= [0, 2, 4, 6 ,8]\n",
    "rhc_loss=[]\n",
    "for i in restarts:\n",
    "    nn_model_rhc = mlrose_hiive.NeuralNetwork(hidden_nodes=[30], \n",
    "                                              activation='relu',\n",
    "                                              algorithm='random_hill_climb', \n",
    "                                              max_iters=17500,\n",
    "                                              bias=True, \n",
    "                                              is_classifier=True, \n",
    "                                              learning_rate=0.01,\n",
    "                                              early_stopping=True,\n",
    "                                              max_attempts=500,\n",
    "                                              curve=True, \n",
    "                                              random_state=id,\n",
    "                                              restarts=i)\n",
    "    nn_model_rhc.fit(x_train,y_train)\n",
    "    rhc_loss.append(nn_model_rhc.loss)\n",
    "\n",
    "plt.plot(restarts, rhc_loss)\n",
    "plt.xlabel('restarts')\n",
    "plt.ylabel('losses')\n",
    "plt.title('Loss at each restarts')\n",
    "plt.legend(loc=\"best\")\n",
    "plt.grid()\n",
    "plt.savefig(fig_path+'RHC_loss_restart.png')"
   ]
  },
  {
   "cell_type": "code",
   "execution_count": 10,
   "id": "79a41b7a",
   "metadata": {},
   "outputs": [
    {
     "data": {
      "image/png": "[encoded data removed]",
      "text/plain": [
       "<Figure size 432x288 with 1 Axes>"
      ]
     },
     "metadata": {
      "needs_background": "light"
     },
     "output_type": "display_data"
    }
   ],
   "source": [
    "from sklearn.model_selection import validation_curve\n",
    "iterations_range = np.arange(5*10**3, 2*10**4, 2.5*10**3).tolist()\n",
    "nn_model_rhc = mlrose_hiive.NeuralNetwork(hidden_nodes=[30], \n",
    "                                              activation='relu',\n",
    "                                              algorithm='random_hill_climb', \n",
    "                                              bias=True, \n",
    "                                              is_classifier=True, \n",
    "                                              learning_rate=0.01,\n",
    "                                              early_stopping=True,\n",
    "                                              max_attempts=500,\n",
    "                                              curve=True, \n",
    "                                              random_state=id,\n",
    "                                              restarts=5)\n",
    "train_scores, test_scores = validation_curve(nn_model_rhc, x_train, y_train, param_name=\"max_iters\", param_range=iterations_range, n_jobs=4, cv=5, scoring='accuracy')\n",
    "\n",
    "plt.figure()\n",
    "train_scores_mean = np.mean(train_scores, axis=1)\n",
    "test_scores_mean = np.mean(test_scores, axis=1)\n",
    "\n",
    "plt.plot(iterations_range, train_scores_mean, 'o-', color='r', label='Training score')\n",
    "plt.plot(iterations_range, test_scores_mean, 'o-', color='b', label='Validation score')\n",
    "\n",
    "\n",
    "plt.title('Validation Curve: RHC for Cancer')\n",
    "plt.xlabel('Iterations')\n",
    "plt.ylabel(\"Score\")\n",
    "plt.legend(loc=\"best\")\n",
    "plt.grid()\n",
    "plt.savefig(fig_path+'RHC_accuracy_iteration.png')"
   ]
  },
  {
   "cell_type": "markdown",
   "id": "9c880abb",
   "metadata": {},
   "source": [
    "# Simulated Annealing"
   ]
  },
  {
   "cell_type": "code",
   "execution_count": 11,
   "id": "8f89d375",
   "metadata": {},
   "outputs": [
    {
     "name": "stderr",
     "output_type": "stream",
     "text": [
      "No handles with labels found to put in legend.\n"
     ]
    },
    {
     "data": {
      "image/png": "[encoded data removed]",
      "text/plain": [
       "<Figure size 432x288 with 1 Axes>"
      ]
     },
     "metadata": {
      "needs_background": "light"
     },
     "output_type": "display_data"
    }
   ],
   "source": [
    "decay_rate = np.arange(0.1, 1.0, 0.1).tolist()\n",
    "sa_loss=[]\n",
    "for i in decay_rate:\n",
    "    nn_model_sa = mlrose_hiive.NeuralNetwork(hidden_nodes=[30], \n",
    "                                             activation='relu',\n",
    "                                             algorithm='simulated_annealing', \n",
    "                                             max_iters=1000,\n",
    "                                             bias=True, \n",
    "                                             is_classifier=True, \n",
    "                                             learning_rate=0.01,\n",
    "                                             early_stopping=True,\n",
    "                                             max_attempts=500,\n",
    "                                             curve=True, \n",
    "                                             random_state=id,\n",
    "                                             schedule=mlrose_hiive.GeomDecay(init_temp=5, decay=i))\n",
    "    nn_model_sa.fit(x_train,y_train)\n",
    "    sa_loss.append(nn_model_sa.loss)\n",
    "\n",
    "plt.plot(decay_rate, sa_loss)\n",
    "plt.xlabel('decay rate')\n",
    "plt.ylabel('losses')\n",
    "plt.title('Loss at each decay rate')\n",
    "plt.legend(loc=\"best\")\n",
    "plt.grid()\n",
    "plt.savefig(fig_path+'SA_loss_decay.png')"
   ]
  },
  {
   "cell_type": "code",
   "execution_count": 12,
   "id": "97fa6884",
   "metadata": {},
   "outputs": [
    {
     "data": {
      "image/png": "[encoded data removed]",
      "text/plain": [
       "<Figure size 576x432 with 1 Axes>"
      ]
     },
     "metadata": {
      "needs_background": "light"
     },
     "output_type": "display_data"
    }
   ],
   "source": [
    "iterations_range = np.arange(1000, 20000, 2000).tolist()\n",
    "sa_loss=[]\n",
    "for iter in iterations_range:\n",
    "    nn_model_sa = mlrose_hiive.NeuralNetwork(hidden_nodes=[30], \n",
    "                                             activation='relu',\n",
    "                                             algorithm='simulated_annealing', \n",
    "                                             max_iters=iter,\n",
    "                                             bias=True, \n",
    "                                             is_classifier=True, \n",
    "                                             learning_rate=0.01,\n",
    "                                             early_stopping=True,\n",
    "                                             max_attempts=500,\n",
    "                                             curve=True, \n",
    "                                             random_state=id,\n",
    "                                             schedule=mlrose_hiive.GeomDecay(init_temp=5.0, decay=0.5))\n",
    "    nn_model_sa.fit(x_train,y_train)\n",
    "    sa_loss.append(nn_model_sa.loss)\n",
    "\n",
    "plt.figure(figsize=(8, 6))\n",
    "plt.plot(iterations_range, sa_loss, color=\"r\", label='simulated_annealing')\n",
    "plt.title('Loss at each training iteration on Breast Cancer dataset')\n",
    "plt.xlabel('Number of Iterations')\n",
    "plt.ylabel('Loss', color='r')\n",
    "plt.legend(loc=\"best\")\n",
    "plt.grid()\n",
    "plt.savefig(fig_path+'SA_loss_iteration.png')"
   ]
  },
  {
   "cell_type": "code",
   "execution_count": 13,
   "id": "78a9a1f0",
   "metadata": {},
   "outputs": [
    {
     "data": {
      "image/png": "[encoded data removed]",
      "text/plain": [
       "<Figure size 432x288 with 1 Axes>"
      ]
     },
     "metadata": {
      "needs_background": "light"
     },
     "output_type": "display_data"
    }
   ],
   "source": [
    "# from sklearn.model_selection import validation_curve\n",
    "iterations_range = np.arange(5*10**3, 2*10**4, 2.5*10**3).tolist()\n",
    "nn_model_sa = mlrose_hiive.NeuralNetwork(hidden_nodes=[30], \n",
    "                                         activation='relu',\n",
    "                                         algorithm='simulated_annealing',\n",
    "                                         bias=True, \n",
    "                                         is_classifier=True, \n",
    "                                         learning_rate=0.01,\n",
    "                                         early_stopping=True,\n",
    "                                         max_attempts=500,\n",
    "                                         curve=True, \n",
    "                                         random_state=id,\n",
    "                                         schedule=mlrose_hiive.GeomDecay(init_temp=5.0, decay=0.5))\n",
    "\n",
    "train_scores, test_scores = validation_curve(nn_model_sa, x_train, y_train, param_name=\"max_iters\", param_range=iterations_range, n_jobs=4, cv=5, scoring='accuracy')\n",
    "\n",
    "plt.figure()\n",
    "train_scores_mean = np.mean(train_scores, axis=1)\n",
    "test_scores_mean = np.mean(test_scores, axis=1)\n",
    "\n",
    "plt.plot(iterations_range, train_scores_mean, 'o-', color='r', label='Training score')\n",
    "plt.plot(iterations_range, test_scores_mean, 'o-', color='b', label='Validation score')\n",
    "\n",
    "\n",
    "plt.title('Validation Curve: SA for Cancer')\n",
    "plt.xlabel('Iterations')\n",
    "plt.ylabel(\"Score\")\n",
    "plt.legend(loc=\"best\")\n",
    "plt.grid()\n",
    "plt.savefig(fig_path+'SA_accuracy_iteration.png')"
   ]
  },
  {
   "cell_type": "markdown",
   "id": "d64447af",
   "metadata": {},
   "source": [
    "# Genetic Algorithm"
   ]
  },
  {
   "cell_type": "code",
   "execution_count": 14,
   "id": "a5cc375c",
   "metadata": {},
   "outputs": [
    {
     "name": "stderr",
     "output_type": "stream",
     "text": [
      "No handles with labels found to put in legend.\n"
     ]
    },
    {
     "data": {
      "image/png": "[encoded data removed]",
      "text/plain": [
       "<Figure size 432x288 with 1 Axes>"
      ]
     },
     "metadata": {
      "needs_background": "light"
     },
     "output_type": "display_data"
    }
   ],
   "source": [
    "population = np.arange(100, 350, 50).tolist()\n",
    "ga_loss=[]\n",
    "for iter in population:\n",
    "    nn_model_ga = mlrose_hiive.NeuralNetwork(hidden_nodes=[30], \n",
    "                                             activation='relu',\n",
    "                                             algorithm='genetic_alg', \n",
    "                                             max_iters=500,\n",
    "                                             bias=True, \n",
    "                                             is_classifier=True, \n",
    "                                             learning_rate=0.01,\n",
    "                                             early_stopping=True,\n",
    "                                             max_attempts=500,\n",
    "                                             pop_size=iter,\n",
    "                                             mutation_prob=0.5,\n",
    "                                             curve=True,\n",
    "                                             random_state=id)\n",
    "    nn_model_ga.fit(x_train,y_train)\n",
    "    ga_loss.append(nn_model_ga.loss)\n",
    "\n",
    "plt.plot(population, ga_loss)\n",
    "plt.xlabel('population')\n",
    "plt.ylabel('losses')\n",
    "plt.title('Loss at each population')\n",
    "plt.legend(loc=\"best\")\n",
    "plt.grid()\n",
    "plt.savefig(fig_path+'GA_loss_pop_size.png')"
   ]
  },
  {
   "cell_type": "code",
   "execution_count": 15,
   "id": "0dace053",
   "metadata": {},
   "outputs": [
    {
     "name": "stderr",
     "output_type": "stream",
     "text": [
      "No handles with labels found to put in legend.\n"
     ]
    },
    {
     "data": {
      "image/png": "[encoded data removed]",
      "text/plain": [
       "<Figure size 432x288 with 1 Axes>"
      ]
     },
     "metadata": {
      "needs_background": "light"
     },
     "output_type": "display_data"
    }
   ],
   "source": [
    "mutation = np.arange(0.1, 1.0, 0.1).tolist()\n",
    "ga_loss=[]\n",
    "for iter in mutation:\n",
    "    nn_model_ga = mlrose_hiive.NeuralNetwork(hidden_nodes=[30], \n",
    "                                             activation='relu',\n",
    "                                             algorithm='genetic_alg', \n",
    "                                             max_iters=500,\n",
    "                                             bias=True, \n",
    "                                             is_classifier=True, \n",
    "                                             learning_rate=0.01,\n",
    "                                             early_stopping=True,\n",
    "                                             max_attempts=500,\n",
    "                                             pop_size=200,\n",
    "                                             mutation_prob=iter,\n",
    "                                             curve=True,\n",
    "                                             random_state=id)\n",
    "    nn_model_ga.fit(x_train,y_train)\n",
    "    ga_loss.append(nn_model_ga.loss)\n",
    "\n",
    "plt.plot(mutation, ga_loss)\n",
    "plt.xlabel('mutation_prob')\n",
    "plt.ylabel('losses')\n",
    "plt.title('Loss at each mutation probability')\n",
    "plt.legend(loc=\"best\")\n",
    "plt.grid()\n",
    "plt.savefig(fig_path+'GA_loss_mutation.png')"
   ]
  },
  {
   "cell_type": "code",
   "execution_count": 16,
   "id": "1f9e9413",
   "metadata": {},
   "outputs": [
    {
     "ename": "KeyboardInterrupt",
     "evalue": "",
     "output_type": "error",
     "traceback": [
      "\u001b[1;31m---------------------------------------------------------------------------\u001b[0m",
      "\u001b[1;31mKeyboardInterrupt\u001b[0m                         Traceback (most recent call last)",
      "\u001b[1;32m<ipython-input-16-6aaae43b9e81>\u001b[0m in \u001b[0;36m<module>\u001b[1;34m\u001b[0m\n\u001b[0;32m     15\u001b[0m                                              \u001b[0mcurve\u001b[0m\u001b[1;33m=\u001b[0m\u001b[1;32mTrue\u001b[0m\u001b[1;33m,\u001b[0m\u001b[1;33m\u001b[0m\u001b[1;33m\u001b[0m\u001b[0m\n\u001b[0;32m     16\u001b[0m                                              random_state=id)\n\u001b[1;32m---> 17\u001b[1;33m     \u001b[0mnn_model_ga\u001b[0m\u001b[1;33m.\u001b[0m\u001b[0mfit\u001b[0m\u001b[1;33m(\u001b[0m\u001b[0mx_train\u001b[0m\u001b[1;33m,\u001b[0m\u001b[0my_train\u001b[0m\u001b[1;33m)\u001b[0m\u001b[1;33m\u001b[0m\u001b[1;33m\u001b[0m\u001b[0m\n\u001b[0m\u001b[0;32m     18\u001b[0m     \u001b[0mga_loss\u001b[0m\u001b[1;33m.\u001b[0m\u001b[0mappend\u001b[0m\u001b[1;33m(\u001b[0m\u001b[0mnn_model_ga\u001b[0m\u001b[1;33m.\u001b[0m\u001b[0mloss\u001b[0m\u001b[1;33m)\u001b[0m\u001b[1;33m\u001b[0m\u001b[1;33m\u001b[0m\u001b[0m\n\u001b[0;32m     19\u001b[0m \u001b[1;33m\u001b[0m\u001b[0m\n",
      "\u001b[1;32mD:\\App\\anaconda3\\lib\\site-packages\\mlrose_hiive\\neural\\_nn_core.py\u001b[0m in \u001b[0;36mfit\u001b[1;34m(self, X, y, init_weights)\u001b[0m\n\u001b[0;32m    156\u001b[0m             \u001b[0mfitness_curve\u001b[0m\u001b[1;33m,\u001b[0m \u001b[0mfitted_weights\u001b[0m\u001b[1;33m,\u001b[0m \u001b[0mloss\u001b[0m \u001b[1;33m=\u001b[0m \u001b[0mself\u001b[0m\u001b[1;33m.\u001b[0m\u001b[0m_run_with_sa\u001b[0m\u001b[1;33m(\u001b[0m\u001b[0minit_weights\u001b[0m\u001b[1;33m,\u001b[0m \u001b[0mnum_nodes\u001b[0m\u001b[1;33m,\u001b[0m \u001b[0mproblem\u001b[0m\u001b[1;33m)\u001b[0m\u001b[1;33m\u001b[0m\u001b[1;33m\u001b[0m\u001b[0m\n\u001b[0;32m    157\u001b[0m         \u001b[1;32melif\u001b[0m \u001b[0mself\u001b[0m\u001b[1;33m.\u001b[0m\u001b[0malgorithm\u001b[0m \u001b[1;33m==\u001b[0m \u001b[1;34m'genetic_alg'\u001b[0m\u001b[1;33m:\u001b[0m\u001b[1;33m\u001b[0m\u001b[1;33m\u001b[0m\u001b[0m\n\u001b[1;32m--> 158\u001b[1;33m             \u001b[0mfitness_curve\u001b[0m\u001b[1;33m,\u001b[0m \u001b[0mfitted_weights\u001b[0m\u001b[1;33m,\u001b[0m \u001b[0mloss\u001b[0m \u001b[1;33m=\u001b[0m \u001b[0mself\u001b[0m\u001b[1;33m.\u001b[0m\u001b[0m_run_with_ga\u001b[0m\u001b[1;33m(\u001b[0m\u001b[0mproblem\u001b[0m\u001b[1;33m)\u001b[0m\u001b[1;33m\u001b[0m\u001b[1;33m\u001b[0m\u001b[0m\n\u001b[0m\u001b[0;32m    159\u001b[0m         \u001b[1;32melse\u001b[0m\u001b[1;33m:\u001b[0m  \u001b[1;31m# Gradient descent case\u001b[0m\u001b[1;33m\u001b[0m\u001b[1;33m\u001b[0m\u001b[0m\n\u001b[0;32m    160\u001b[0m             \u001b[0mfitness_curve\u001b[0m\u001b[1;33m,\u001b[0m \u001b[0mfitted_weights\u001b[0m\u001b[1;33m,\u001b[0m \u001b[0mloss\u001b[0m \u001b[1;33m=\u001b[0m \u001b[0mself\u001b[0m\u001b[1;33m.\u001b[0m\u001b[0m_run_with_gd\u001b[0m\u001b[1;33m(\u001b[0m\u001b[0minit_weights\u001b[0m\u001b[1;33m,\u001b[0m \u001b[0mnum_nodes\u001b[0m\u001b[1;33m,\u001b[0m \u001b[0mproblem\u001b[0m\u001b[1;33m)\u001b[0m\u001b[1;33m\u001b[0m\u001b[1;33m\u001b[0m\u001b[0m\n",
      "\u001b[1;32mD:\\App\\anaconda3\\lib\\site-packages\\mlrose_hiive\\neural\\_nn_core.py\u001b[0m in \u001b[0;36m_run_with_ga\u001b[1;34m(self, problem)\u001b[0m\n\u001b[0;32m    187\u001b[0m         \u001b[0mfitness_curve\u001b[0m \u001b[1;33m=\u001b[0m \u001b[1;33m[\u001b[0m\u001b[1;33m]\u001b[0m\u001b[1;33m\u001b[0m\u001b[1;33m\u001b[0m\u001b[0m\n\u001b[0;32m    188\u001b[0m         \u001b[1;32mif\u001b[0m \u001b[0mself\u001b[0m\u001b[1;33m.\u001b[0m\u001b[0mcurve\u001b[0m\u001b[1;33m:\u001b[0m\u001b[1;33m\u001b[0m\u001b[1;33m\u001b[0m\u001b[0m\n\u001b[1;32m--> 189\u001b[1;33m             fitted_weights, loss, fitness_curve = genetic_alg(\n\u001b[0m\u001b[0;32m    190\u001b[0m                 \u001b[0mproblem\u001b[0m\u001b[1;33m,\u001b[0m\u001b[1;33m\u001b[0m\u001b[1;33m\u001b[0m\u001b[0m\n\u001b[0;32m    191\u001b[0m                 \u001b[0mpop_size\u001b[0m\u001b[1;33m=\u001b[0m\u001b[0mself\u001b[0m\u001b[1;33m.\u001b[0m\u001b[0mpop_size\u001b[0m\u001b[1;33m,\u001b[0m\u001b[1;33m\u001b[0m\u001b[1;33m\u001b[0m\u001b[0m\n",
      "\u001b[1;32mD:\\App\\anaconda3\\lib\\site-packages\\mlrose_hiive\\algorithms\\ga.py\u001b[0m in \u001b[0;36mgenetic_alg\u001b[1;34m(problem, pop_size, pop_breed_percent, elite_dreg_ratio, minimum_elites, minimum_dregs, mutation_prob, max_attempts, max_iters, curve, random_state, state_fitness_callback, callback_user_info, hamming_factor, hamming_decay_factor)\u001b[0m\n\u001b[0;32m    208\u001b[0m \u001b[1;33m\u001b[0m\u001b[0m\n\u001b[0;32m    209\u001b[0m         \u001b[0mnext_gen\u001b[0m \u001b[1;33m=\u001b[0m \u001b[0mnp\u001b[0m\u001b[1;33m.\u001b[0m\u001b[0marray\u001b[0m\u001b[1;33m(\u001b[0m\u001b[0mnext_gen\u001b[0m\u001b[1;33m[\u001b[0m\u001b[1;33m:\u001b[0m\u001b[0mpop_size\u001b[0m\u001b[1;33m]\u001b[0m\u001b[1;33m)\u001b[0m\u001b[1;33m\u001b[0m\u001b[1;33m\u001b[0m\u001b[0m\n\u001b[1;32m--> 210\u001b[1;33m         \u001b[0mproblem\u001b[0m\u001b[1;33m.\u001b[0m\u001b[0mset_population\u001b[0m\u001b[1;33m(\u001b[0m\u001b[0mnext_gen\u001b[0m\u001b[1;33m)\u001b[0m\u001b[1;33m\u001b[0m\u001b[1;33m\u001b[0m\u001b[0m\n\u001b[0m\u001b[0;32m    211\u001b[0m \u001b[1;33m\u001b[0m\u001b[0m\n\u001b[0;32m    212\u001b[0m         \u001b[0mnext_state\u001b[0m \u001b[1;33m=\u001b[0m \u001b[0mproblem\u001b[0m\u001b[1;33m.\u001b[0m\u001b[0mbest_child\u001b[0m\u001b[1;33m(\u001b[0m\u001b[1;33m)\u001b[0m\u001b[1;33m\u001b[0m\u001b[1;33m\u001b[0m\u001b[0m\n",
      "\u001b[1;32mD:\\App\\anaconda3\\lib\\site-packages\\mlrose_hiive\\opt_probs\\_opt_prob.py\u001b[0m in \u001b[0;36mset_population\u001b[1;34m(self, new_population)\u001b[0m\n\u001b[0;32m    212\u001b[0m         \"\"\"\n\u001b[0;32m    213\u001b[0m         \u001b[0mself\u001b[0m\u001b[1;33m.\u001b[0m\u001b[0mpopulation\u001b[0m \u001b[1;33m=\u001b[0m \u001b[0mnew_population\u001b[0m\u001b[1;33m\u001b[0m\u001b[1;33m\u001b[0m\u001b[0m\n\u001b[1;32m--> 214\u001b[1;33m         \u001b[0mself\u001b[0m\u001b[1;33m.\u001b[0m\u001b[0mevaluate_population_fitness\u001b[0m\u001b[1;33m(\u001b[0m\u001b[1;33m)\u001b[0m\u001b[1;33m\u001b[0m\u001b[1;33m\u001b[0m\u001b[0m\n\u001b[0m\u001b[0;32m    215\u001b[0m \u001b[1;33m\u001b[0m\u001b[0m\n\u001b[0;32m    216\u001b[0m     \u001b[1;32mdef\u001b[0m \u001b[0mevaluate_population_fitness\u001b[0m\u001b[1;33m(\u001b[0m\u001b[0mself\u001b[0m\u001b[1;33m)\u001b[0m\u001b[1;33m:\u001b[0m\u001b[1;33m\u001b[0m\u001b[1;33m\u001b[0m\u001b[0m\n",
      "\u001b[1;32mD:\\App\\anaconda3\\lib\\site-packages\\mlrose_hiive\\opt_probs\\_opt_prob.py\u001b[0m in \u001b[0;36mevaluate_population_fitness\u001b[1;34m(self)\u001b[0m\n\u001b[0;32m    219\u001b[0m \u001b[1;33m\u001b[0m\u001b[0m\n\u001b[0;32m    220\u001b[0m         \u001b[1;32mfor\u001b[0m \u001b[0mi\u001b[0m \u001b[1;32min\u001b[0m \u001b[0mrange\u001b[0m\u001b[1;33m(\u001b[0m\u001b[0mlen\u001b[0m\u001b[1;33m(\u001b[0m\u001b[0mself\u001b[0m\u001b[1;33m.\u001b[0m\u001b[0mpopulation\u001b[0m\u001b[1;33m)\u001b[0m\u001b[1;33m)\u001b[0m\u001b[1;33m:\u001b[0m\u001b[1;33m\u001b[0m\u001b[1;33m\u001b[0m\u001b[0m\n\u001b[1;32m--> 221\u001b[1;33m             \u001b[0mfitness\u001b[0m \u001b[1;33m=\u001b[0m \u001b[0mself\u001b[0m\u001b[1;33m.\u001b[0m\u001b[0meval_fitness\u001b[0m\u001b[1;33m(\u001b[0m\u001b[0mself\u001b[0m\u001b[1;33m.\u001b[0m\u001b[0mpopulation\u001b[0m\u001b[1;33m[\u001b[0m\u001b[0mi\u001b[0m\u001b[1;33m]\u001b[0m\u001b[1;33m)\u001b[0m\u001b[1;33m\u001b[0m\u001b[1;33m\u001b[0m\u001b[0m\n\u001b[0m\u001b[0;32m    222\u001b[0m             \u001b[0mpop_fitness\u001b[0m\u001b[1;33m.\u001b[0m\u001b[0mappend\u001b[0m\u001b[1;33m(\u001b[0m\u001b[0mfitness\u001b[0m\u001b[1;33m)\u001b[0m\u001b[1;33m\u001b[0m\u001b[1;33m\u001b[0m\u001b[0m\n\u001b[0;32m    223\u001b[0m \u001b[1;33m\u001b[0m\u001b[0m\n",
      "\u001b[1;32mD:\\App\\anaconda3\\lib\\site-packages\\mlrose_hiive\\opt_probs\\_opt_prob.py\u001b[0m in \u001b[0;36meval_fitness\u001b[1;34m(self, state)\u001b[0m\n\u001b[0;32m     96\u001b[0m             \u001b[1;32mraise\u001b[0m \u001b[0mException\u001b[0m\u001b[1;33m(\u001b[0m\u001b[1;34m\"state length must match problem length\"\u001b[0m\u001b[1;33m)\u001b[0m\u001b[1;33m\u001b[0m\u001b[1;33m\u001b[0m\u001b[0m\n\u001b[0;32m     97\u001b[0m \u001b[1;33m\u001b[0m\u001b[0m\n\u001b[1;32m---> 98\u001b[1;33m         \u001b[0mfitness\u001b[0m \u001b[1;33m=\u001b[0m \u001b[0mself\u001b[0m\u001b[1;33m.\u001b[0m\u001b[0mmaximize\u001b[0m\u001b[1;33m*\u001b[0m\u001b[0mself\u001b[0m\u001b[1;33m.\u001b[0m\u001b[0mfitness_fn\u001b[0m\u001b[1;33m.\u001b[0m\u001b[0mevaluate\u001b[0m\u001b[1;33m(\u001b[0m\u001b[0mstate\u001b[0m\u001b[1;33m)\u001b[0m\u001b[1;33m\u001b[0m\u001b[1;33m\u001b[0m\u001b[0m\n\u001b[0m\u001b[0;32m     99\u001b[0m         \u001b[1;31m# increment fevals for the current iteration\u001b[0m\u001b[1;33m\u001b[0m\u001b[1;33m\u001b[0m\u001b[1;33m\u001b[0m\u001b[0m\n\u001b[0;32m    100\u001b[0m         \u001b[0mself\u001b[0m\u001b[1;33m.\u001b[0m\u001b[0mfitness_evaluations\u001b[0m \u001b[1;33m+=\u001b[0m \u001b[1;36m1\u001b[0m\u001b[1;33m\u001b[0m\u001b[1;33m\u001b[0m\u001b[0m\n",
      "\u001b[1;32mD:\\App\\anaconda3\\lib\\site-packages\\mlrose_hiive\\neural\\fitness\\network_weights.py\u001b[0m in \u001b[0;36mevaluate\u001b[1;34m(self, state)\u001b[0m\n\u001b[0;32m    145\u001b[0m \u001b[1;33m\u001b[0m\u001b[0m\n\u001b[0;32m    146\u001b[0m         \u001b[1;31m# Evaluate loss function\u001b[0m\u001b[1;33m\u001b[0m\u001b[1;33m\u001b[0m\u001b[1;33m\u001b[0m\u001b[0m\n\u001b[1;32m--> 147\u001b[1;33m         \u001b[0mfitness\u001b[0m \u001b[1;33m=\u001b[0m \u001b[0mself\u001b[0m\u001b[1;33m.\u001b[0m\u001b[0mloss\u001b[0m\u001b[1;33m(\u001b[0m\u001b[0mself\u001b[0m\u001b[1;33m.\u001b[0m\u001b[0my_true\u001b[0m\u001b[1;33m,\u001b[0m \u001b[0mself\u001b[0m\u001b[1;33m.\u001b[0m\u001b[0my_pred\u001b[0m\u001b[1;33m)\u001b[0m\u001b[1;33m\u001b[0m\u001b[1;33m\u001b[0m\u001b[0m\n\u001b[0m\u001b[0;32m    148\u001b[0m \u001b[1;33m\u001b[0m\u001b[0m\n\u001b[0;32m    149\u001b[0m         \u001b[1;32mreturn\u001b[0m \u001b[0mfitness\u001b[0m\u001b[1;33m\u001b[0m\u001b[1;33m\u001b[0m\u001b[0m\n",
      "\u001b[1;32mD:\\App\\anaconda3\\lib\\site-packages\\sklearn\\utils\\validation.py\u001b[0m in \u001b[0;36minner_f\u001b[1;34m(*args, **kwargs)\u001b[0m\n\u001b[0;32m     61\u001b[0m             \u001b[0mextra_args\u001b[0m \u001b[1;33m=\u001b[0m \u001b[0mlen\u001b[0m\u001b[1;33m(\u001b[0m\u001b[0margs\u001b[0m\u001b[1;33m)\u001b[0m \u001b[1;33m-\u001b[0m \u001b[0mlen\u001b[0m\u001b[1;33m(\u001b[0m\u001b[0mall_args\u001b[0m\u001b[1;33m)\u001b[0m\u001b[1;33m\u001b[0m\u001b[1;33m\u001b[0m\u001b[0m\n\u001b[0;32m     62\u001b[0m             \u001b[1;32mif\u001b[0m \u001b[0mextra_args\u001b[0m \u001b[1;33m<=\u001b[0m \u001b[1;36m0\u001b[0m\u001b[1;33m:\u001b[0m\u001b[1;33m\u001b[0m\u001b[1;33m\u001b[0m\u001b[0m\n\u001b[1;32m---> 63\u001b[1;33m                 \u001b[1;32mreturn\u001b[0m \u001b[0mf\u001b[0m\u001b[1;33m(\u001b[0m\u001b[1;33m*\u001b[0m\u001b[0margs\u001b[0m\u001b[1;33m,\u001b[0m \u001b[1;33m**\u001b[0m\u001b[0mkwargs\u001b[0m\u001b[1;33m)\u001b[0m\u001b[1;33m\u001b[0m\u001b[1;33m\u001b[0m\u001b[0m\n\u001b[0m\u001b[0;32m     64\u001b[0m \u001b[1;33m\u001b[0m\u001b[0m\n\u001b[0;32m     65\u001b[0m             \u001b[1;31m# extra_args > 0\u001b[0m\u001b[1;33m\u001b[0m\u001b[1;33m\u001b[0m\u001b[1;33m\u001b[0m\u001b[0m\n",
      "\u001b[1;32mD:\\App\\anaconda3\\lib\\site-packages\\sklearn\\metrics\\_classification.py\u001b[0m in \u001b[0;36mlog_loss\u001b[1;34m(y_true, y_pred, eps, normalize, sample_weight, labels)\u001b[0m\n\u001b[0;32m   2276\u001b[0m \u001b[1;33m\u001b[0m\u001b[0m\n\u001b[0;32m   2277\u001b[0m     \u001b[1;31m# Renormalize\u001b[0m\u001b[1;33m\u001b[0m\u001b[1;33m\u001b[0m\u001b[1;33m\u001b[0m\u001b[0m\n\u001b[1;32m-> 2278\u001b[1;33m     \u001b[0my_pred\u001b[0m \u001b[1;33m/=\u001b[0m \u001b[0my_pred\u001b[0m\u001b[1;33m.\u001b[0m\u001b[0msum\u001b[0m\u001b[1;33m(\u001b[0m\u001b[0maxis\u001b[0m\u001b[1;33m=\u001b[0m\u001b[1;36m1\u001b[0m\u001b[1;33m)\u001b[0m\u001b[1;33m[\u001b[0m\u001b[1;33m:\u001b[0m\u001b[1;33m,\u001b[0m \u001b[0mnp\u001b[0m\u001b[1;33m.\u001b[0m\u001b[0mnewaxis\u001b[0m\u001b[1;33m]\u001b[0m\u001b[1;33m\u001b[0m\u001b[1;33m\u001b[0m\u001b[0m\n\u001b[0m\u001b[0;32m   2279\u001b[0m     \u001b[0mloss\u001b[0m \u001b[1;33m=\u001b[0m \u001b[1;33m-\u001b[0m\u001b[1;33m(\u001b[0m\u001b[0mtransformed_labels\u001b[0m \u001b[1;33m*\u001b[0m \u001b[0mnp\u001b[0m\u001b[1;33m.\u001b[0m\u001b[0mlog\u001b[0m\u001b[1;33m(\u001b[0m\u001b[0my_pred\u001b[0m\u001b[1;33m)\u001b[0m\u001b[1;33m)\u001b[0m\u001b[1;33m.\u001b[0m\u001b[0msum\u001b[0m\u001b[1;33m(\u001b[0m\u001b[0maxis\u001b[0m\u001b[1;33m=\u001b[0m\u001b[1;36m1\u001b[0m\u001b[1;33m)\u001b[0m\u001b[1;33m\u001b[0m\u001b[1;33m\u001b[0m\u001b[0m\n\u001b[0;32m   2280\u001b[0m \u001b[1;33m\u001b[0m\u001b[0m\n",
      "\u001b[1;32mD:\\App\\anaconda3\\lib\\site-packages\\numpy\\core\\_methods.py\u001b[0m in \u001b[0;36m_sum\u001b[1;34m(a, axis, dtype, out, keepdims, initial, where)\u001b[0m\n\u001b[0;32m     45\u001b[0m def _sum(a, axis=None, dtype=None, out=None, keepdims=False,\n\u001b[0;32m     46\u001b[0m          initial=_NoValue, where=True):\n\u001b[1;32m---> 47\u001b[1;33m     \u001b[1;32mreturn\u001b[0m \u001b[0mumr_sum\u001b[0m\u001b[1;33m(\u001b[0m\u001b[0ma\u001b[0m\u001b[1;33m,\u001b[0m \u001b[0maxis\u001b[0m\u001b[1;33m,\u001b[0m \u001b[0mdtype\u001b[0m\u001b[1;33m,\u001b[0m \u001b[0mout\u001b[0m\u001b[1;33m,\u001b[0m \u001b[0mkeepdims\u001b[0m\u001b[1;33m,\u001b[0m \u001b[0minitial\u001b[0m\u001b[1;33m,\u001b[0m \u001b[0mwhere\u001b[0m\u001b[1;33m)\u001b[0m\u001b[1;33m\u001b[0m\u001b[1;33m\u001b[0m\u001b[0m\n\u001b[0m\u001b[0;32m     48\u001b[0m \u001b[1;33m\u001b[0m\u001b[0m\n\u001b[0;32m     49\u001b[0m def _prod(a, axis=None, dtype=None, out=None, keepdims=False,\n",
      "\u001b[1;31mKeyboardInterrupt\u001b[0m: "
     ]
    }
   ],
   "source": [
    "iterations_range = np.arange(100, 1600, 100).tolist()\n",
    "ga_loss=[]\n",
    "for iter in iterations_range:\n",
    "    nn_model_ga = mlrose_hiive.NeuralNetwork(hidden_nodes=[30], \n",
    "                                             activation='relu',\n",
    "                                             algorithm='genetic_alg', \n",
    "                                             max_iters=iter,\n",
    "                                             bias=True, \n",
    "                                             is_classifier=True, \n",
    "                                             learning_rate=0.01,\n",
    "                                             early_stopping=True,\n",
    "                                             max_attempts=500,\n",
    "                                             pop_size=200,\n",
    "                                             mutation_prob=0.1,\n",
    "                                             curve=True,\n",
    "                                             random_state=id)\n",
    "    nn_model_ga.fit(x_train,y_train)\n",
    "    ga_loss.append(nn_model_ga.loss)\n",
    "\n",
    "plt.figure(figsize=(8, 6))\n",
    "plt.plot(iterations_range, ga_loss, color=\"r\", label='genetic_alg')\n",
    "plt.title('Loss at each training iteration on Breast Cancer dataset')\n",
    "plt.xlabel('Number of Iterations')\n",
    "plt.ylabel('Loss', color='r')\n",
    "plt.legend(loc=\"best\")\n",
    "plt.grid()\n",
    "plt.savefig(fig_path+'GA_loss_iteration.png')"
   ]
  },
  {
   "cell_type": "code",
   "execution_count": null,
   "id": "babbd9e9",
   "metadata": {},
   "outputs": [],
   "source": [
    "# from sklearn.model_selection import validation_curve\n",
    "iterations_range = np.arange(100, 1000, 100).tolist()\n",
    "train_scores, test_scores = validation_curve(nn_model_ga, x_train, y_train, param_name=\"max_iters\", param_range=iterations_range, n_jobs=4, cv=5, scoring='accuracy')\n",
    "\n",
    "plt.figure()\n",
    "train_scores_mean = np.mean(train_scores, axis=1)\n",
    "test_scores_mean = np.mean(test_scores, axis=1)\n",
    "\n",
    "plt.plot(iterations_range, train_scores_mean, 'o-', color='r', label='Training score')\n",
    "plt.plot(iterations_range, test_scores_mean, 'o-', color='b', label='Validation score')\n",
    "\n",
    "\n",
    "plt.title('Validation Curve: GA for Cancer')\n",
    "plt.xlabel('Iterations')\n",
    "plt.ylabel(\"Score\")\n",
    "plt.legend(loc=\"best\")\n",
    "plt.grid()\n",
    "plt.savefig(fig_path+'GA_accuracy_iteration.png')"
   ]
  },
  {
   "cell_type": "code",
   "execution_count": null,
   "id": "25cd7e48",
   "metadata": {},
   "outputs": [],
   "source": [
    "nn_model_rhc = mlrose_hiive.NeuralNetwork(hidden_nodes=[30], \n",
    "                                          activation='relu',\n",
    "                                          algorithm='random_hill_climb', \n",
    "                                          max_iters=17500,\n",
    "                                          learning_rate=0.01,\n",
    "                                          early_stopping=True,\n",
    "                                          max_attempts=500,\n",
    "                                          curve=True, \n",
    "                                          restarts=5,\n",
    "                                          random_state=id)\n",
    "nn_model_rhc.fit(x_train,y_train)\n",
    "\n",
    "nn_model_sa = mlrose_hiive.NeuralNetwork(hidden_nodes=[30], \n",
    "                                         activation='relu',\n",
    "                                         algorithm='simulated_annealing', \n",
    "                                         max_iters=17500,\n",
    "                                         learning_rate=0.01,\n",
    "                                         early_stopping=True,\n",
    "                                         schedule=mlrose_hiive.GeomDecay(init_temp=5, decay=0.5),\n",
    "                                         max_attempts=500,\n",
    "                                         curve=True, \n",
    "                                         random_state=id)\n",
    "nn_model_sa.fit(x_train,y_train)\n",
    "\n",
    "nn_model_ga = mlrose_hiive.NeuralNetwork(hidden_nodes=[30], \n",
    "                                         activation='relu',\n",
    "                                         algorithm='genetic_alg', \n",
    "                                         max_iters=500, \n",
    "                                         learning_rate=0.01,\n",
    "                                         early_stopping=True,\n",
    "                                         max_attempts=500,\n",
    "                                         pop_size=200,\n",
    "                                         mutation_prob=0.1,\n",
    "                                         curve=True,\n",
    "                                         random_state=id)\n",
    "nn_model_ga.fit(x_train,y_train)"
   ]
  },
  {
   "cell_type": "code",
   "execution_count": null,
   "id": "422efb99",
   "metadata": {},
   "outputs": [],
   "source": [
    "clf_dict = {'Base_Neural_Network': nn_clf,\n",
    "            'Random_Hill_Climb': nn_model_rhc, \n",
    "            'Simulated_Annealing': nn_model_sa, \n",
    "            'Genetic_Algorithms': nn_model_ga}\n",
    "\n",
    "def fun(clf_dict, x_train, y_train, x_test, y_test):\n",
    "    d = dict()\n",
    "    for i in clf_dict.keys():\n",
    "        l = list()\n",
    "        train_pred = clf_dict[i].predict(x_train)\n",
    "        auc_score = accuracy_score(y_train, train_pred)\n",
    "        l.append(auc_score)\n",
    "        \n",
    "        test_pred = clf_dict[i].predict(x_test)\n",
    "        auc_score = accuracy_score(y_test, test_pred)\n",
    "        l.append(auc_score)\n",
    "        \n",
    "        # Adding difference of score (train-test)\n",
    "        diff = l[0]-l[1]\n",
    "        l.append(diff)\n",
    "        \n",
    "        d[i] = l\n",
    "        \n",
    "    return d\n",
    "\n",
    "# Calling the above function fun() to predict and then compare roc_auc score of different models\n",
    "scores = fun(clf_dict, x_train, y_train, x_test, y_test)\n",
    "\n",
    "df = pd.DataFrame.from_dict(scores)\n",
    "df = df.rename(index = {0:'Train_Accuracy_Score', 1:'Test_Accuracy_Score', 2:'Accuracy_Difference'})\n",
    "df"
   ]
  },
  {
   "cell_type": "code",
   "execution_count": null,
   "id": "757ba55a",
   "metadata": {},
   "outputs": [],
   "source": [
    "df.plot(kind='barh', figsize=(8, 6), zorder=2, width=0.85)\n",
    "plt.xlabel('Accuracy Score')\n",
    "plt.title('Accuracy Score of base neural network & randomized optimization')\n",
    "plt.grid()\n",
    "plt.savefig(fig_path+'all_algorithms_accuracy.png')"
   ]
  },
  {
   "cell_type": "code",
   "execution_count": null,
   "id": "d4e5927e",
   "metadata": {},
   "outputs": [],
   "source": [
    "def fun(clf_dict, x_train, y_train, x_test, y_test):\n",
    "    d = dict()\n",
    "    for i in clf_dict.keys():\n",
    "        l = list()\n",
    "        train_pred = clf_dict[i].predict(x_train)\n",
    "        f1 = f1_score(y_train, train_pred)\n",
    "        l.append(f1)\n",
    "        \n",
    "        test_pred = clf_dict[i].predict(x_test)\n",
    "        f1 = f1_score(y_test, test_pred)\n",
    "        l.append(f1)\n",
    "        \n",
    "        # Adding difference of score (train-test)\n",
    "        diff = l[0]-l[1]\n",
    "        l.append(diff)\n",
    "        \n",
    "        d[i] = l\n",
    "        \n",
    "    return d\n",
    "\n",
    "# Calling the above function fun() to predict and then compare roc_auc score of different models\n",
    "scores = fun(clf_dict, x_train, y_train, x_test, y_test)\n",
    "df = pd.DataFrame.from_dict(scores)\n",
    "df = df.rename(index = {0:'Train_F1_Score', 1:'Test_F1_Score', 2:'F1_Difference'})\n",
    "df"
   ]
  },
  {
   "cell_type": "code",
   "execution_count": null,
   "id": "a3605ba5",
   "metadata": {},
   "outputs": [],
   "source": [
    "df.plot(kind='barh', figsize=(8, 6), zorder=2, width=0.85)\n",
    "plt.xlabel('F1 Score')\n",
    "plt.title('F1 Score of base neural network & randomized optimization')\n",
    "plt.grid()\n",
    "plt.savefig(fig_path+'all_algorithms_f1.png')"
   ]
  },
  {
   "cell_type": "code",
   "execution_count": null,
   "id": "8111a08d",
   "metadata": {},
   "outputs": [],
   "source": [
    "time_dict = dict()\n",
    "\n",
    "start_time = time.time()\n",
    "nn_clf.fit(x_train, y_train)\n",
    "end_time = time.time()\n",
    "time_taken = end_time - start_time\n",
    "time_dict['Base_Neural_Network'] = [time_taken]\n",
    "\n",
    "start_time = time.time()\n",
    "nn_model_rhc.fit(x_train, y_train)\n",
    "end_time = time.time()\n",
    "time_taken = end_time - start_time\n",
    "time_dict['Random_Hill_Climb'] = [time_taken]\n",
    "\n",
    "start_time = time.time()\n",
    "nn_model_sa.fit(x_train, y_train)\n",
    "end_time = time.time()\n",
    "time_taken = end_time - start_time\n",
    "time_dict['Simulated_Annealing'] = [time_taken]\n",
    "\n",
    "start_time = time.time()\n",
    "nn_model_ga.fit(x_train, y_train)\n",
    "end_time = time.time()\n",
    "time_taken = end_time - start_time\n",
    "time_dict['Genetic_Algorithms'] = [time_taken]\n",
    "\n",
    "times = pd.DataFrame.from_dict(time_dict).T\n",
    "times = times.rename(index = str, columns = {0:'training_time'})\n",
    "times"
   ]
  },
  {
   "cell_type": "code",
   "execution_count": null,
   "id": "9d8b6985",
   "metadata": {},
   "outputs": [],
   "source": [
    "figure = times.plot(kind = 'bar', title = 'Training time of all algorithms', figsize = (8, 6), fontsize = 8)\n",
    "plt.xticks(rotation = 360)\n",
    "plt.ylabel('Training Time')\n",
    "plt.grid()\n",
    "plt.savefig(fig_path+'all_algorithms_run_time.png')"
   ]
  },
  {
   "cell_type": "code",
   "execution_count": null,
   "id": "8924e03c",
   "metadata": {},
   "outputs": [],
   "source": []
  }
 ],
 "metadata": {
  "kernelspec": {
   "display_name": "Python 3",
   "language": "python",
   "name": "python3"
  },
  "language_info": {
   "codemirror_mode": {
    "name": "ipython",
    "version": 3
   },
   "file_extension": ".py",
   "mimetype": "text/x-python",
   "name": "python",
   "nbconvert_exporter": "python",
   "pygments_lexer": "ipython3",
   "version": "3.8.8"
  }
 },
 "nbformat": 4,
 "nbformat_minor": 5
}
