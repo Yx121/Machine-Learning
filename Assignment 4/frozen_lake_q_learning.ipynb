{
 "cells": [
  {
   "cell_type": "code",
   "execution_count": 1,
   "id": "5cb0827b",
   "metadata": {},
   "outputs": [],
   "source": [
    "import gym\n",
    "import random\n",
    "import numpy as np\n",
    "import pandas as pd\n",
    "from datetime import timedelta\n",
    "from timeit import default_timer as timer\n",
    "import seaborn as sns\n",
    "import matplotlib.pylab as plt\n",
    "%matplotlib inline\n",
    "id = 903657078"
   ]
  },
  {
   "cell_type": "code",
   "execution_count": 2,
   "id": "f164b46a",
   "metadata": {},
   "outputs": [],
   "source": [
    "from gym.envs.toy_text.frozen_lake import generate_random_map, FrozenLakeEnv\n",
    "np.random.seed(id)\n",
    "sixteen = generate_random_map(16)\n",
    "np.random.seed(id+1)\n",
    "tvelve = generate_random_map(12)\n",
    "MAPS = {\n",
    "    \"4x4\": [\n",
    "        \"SFFF\",\n",
    "        \"FHFH\",\n",
    "        \"FFFH\",\n",
    "        \"HFFG\"\n",
    "    ],\n",
    "    \"8x8\": [\n",
    "        \"SFFFFFFF\",\n",
    "        \"FFFFFFFF\",\n",
    "        \"FFFHFFFF\",\n",
    "        \"FFFFFHFF\",\n",
    "        \"FFFHFFFF\",\n",
    "        \"FHHFFFHF\",\n",
    "        \"FHFFHFHF\",\n",
    "        \"FFFHFFFG\"\n",
    "    ],\n",
    "    \"12x12\": tvelve,\n",
    "    \"16x16\": sixteen\n",
    "}"
   ]
  },
  {
   "cell_type": "code",
   "execution_count": 3,
   "id": "1b5bb697",
   "metadata": {},
   "outputs": [],
   "source": [
    "def test_policy(env, policy, n_epoch=1000):\n",
    "    rewards = []\n",
    "    episode_counts = []\n",
    "    for i in range(n_epoch):\n",
    "        current_state = env.reset()\n",
    "        ep = 0\n",
    "        done = False\n",
    "        episode_reward = 0\n",
    "        while not done and ep < 10000:\n",
    "            ep += 1\n",
    "            act = int(policy[current_state])\n",
    "            new_state, reward, done, _ = env.step(act)\n",
    "            episode_reward += reward\n",
    "            current_state = new_state\n",
    "        rewards.append(episode_reward)\n",
    "        episode_counts.append(ep)\n",
    "    \n",
    "    # all done\n",
    "    mean_reward = sum(rewards)/len(rewards)\n",
    "    mean_eps = sum(episode_counts)/len(episode_counts)\n",
    "    return mean_reward, mean_eps, rewards, episode_counts "
   ]
  },
  {
   "cell_type": "code",
   "execution_count": 4,
   "id": "4db6f18a",
   "metadata": {},
   "outputs": [],
   "source": [
    "def q_learning(env, discount=0.9, total_episodes=1e5, alpha=0.1, decay_rate=None,\n",
    "               min_epsilon=0.01):\n",
    "    \n",
    "    start = timer()\n",
    "    \n",
    "    number_of_states = env.observation_space.n\n",
    "    number_of_actions = env.action_space.n\n",
    "    \n",
    "    qtable = np.zeros((number_of_states, number_of_actions))\n",
    "    learning_rate = alpha\n",
    "    gamma = discount\n",
    "\n",
    "    # exploration parameter\n",
    "    epsilon = 1.0\n",
    "    max_epsilon = 1.0\n",
    "    min_epsilon = 0.01\n",
    "    \n",
    "    if not decay_rate:\n",
    "        decay_rate = 1./total_episodes\n",
    "    \n",
    "    rewards = []\n",
    "    for episode in range(int(total_episodes)):\n",
    "        # reset the environment\n",
    "        state = env.reset()\n",
    "        step = 0\n",
    "        done = False\n",
    "        total_reward = 0\n",
    "        while True:\n",
    "\n",
    "            # choose an action a in the corrent world state\n",
    "            exp_exp_tradeoff = random.uniform(0,1)\n",
    "\n",
    "            # if greater than epsilon --> exploit\n",
    "            if exp_exp_tradeoff > epsilon:\n",
    "                b = qtable[state, :]\n",
    "                action = np.random.choice(np.where(b == b.max())[0])\n",
    "#                 action = np.argmax(qtable[state, :])\n",
    "            # else choose exploration\n",
    "            else:\n",
    "                action = env.action_space.sample()\n",
    "\n",
    "            # take action (a) and observe the outcome state (s') and reward (r)    \n",
    "            new_state, reward, done, info = env.step(action)\n",
    "            total_reward += reward\n",
    "            # update Q(s,a) := Q(s,a) + lr [R(s,a) + gamma * max(Q (s', a') - Q(s,a))]\n",
    "            if not done:\n",
    "                qtable[state, action] = qtable[state, action] + learning_rate*(reward + gamma*np.max(qtable[new_state, :]) - qtable[state, action])\n",
    "            else:\n",
    "                qtable[state, action] = qtable[state,action] + learning_rate*(reward - qtable[state,action])\n",
    "\n",
    "            # change state\n",
    "            state = new_state\n",
    "\n",
    "            # is it Done\n",
    "            if done:\n",
    "                break\n",
    "                \n",
    "        # reduce epsilon \n",
    "        rewards.append(total_reward)\n",
    "        epsilon = max(max_epsilon -  decay_rate * episode, min_epsilon) \n",
    "    #     print (epsilon)\n",
    "    \n",
    "    end = timer()\n",
    "    time_spent = timedelta(seconds=end-start)\n",
    "    print(\"Solved in: {} episodes and {} seconds\".format(total_episodes, time_spent))\n",
    "    return np.argmax(qtable, axis=1), total_episodes, time_spent, qtable, rewards"
   ]
  },
  {
   "cell_type": "code",
   "execution_count": 5,
   "id": "cab1e1d1",
   "metadata": {},
   "outputs": [],
   "source": [
    "def train_and_test_q_learning(env, discount=[0.9], total_episodes=[1e5], alphas=[0.1], decay_rates=[0.01], mute=False):\n",
    "    \n",
    "    min_epsilon = 0.01\n",
    "    \n",
    "    q_dict = {}\n",
    "    for dis in discount:\n",
    "        q_dict[dis] = {}\n",
    "        for eps in total_episodes:\n",
    "            q_dict[dis][eps] = {}\n",
    "            for alpha in alphas:\n",
    "                q_dict[dis][eps][alpha] = {}\n",
    "                for dr in decay_rates:\n",
    "                    q_dict[dis][eps][alpha][dr] = {}\n",
    "                    \n",
    "                    # run q_learning\n",
    "                    q_policy, q_solve_iter, q_solve_time, q_table, rewards = q_learning(env, dis, eps, alpha, dr, min_epsilon)\n",
    "                    q_mrews, q_meps, _, __ = test_policy(env, q_policy)\n",
    "                    q_dict[dis][eps][alpha][dr][\"mean_reward\"] = q_mrews\n",
    "                    q_dict[dis][eps][alpha][dr][\"mean_eps\"] = q_meps\n",
    "                    q_dict[dis][eps][alpha][dr][\"q-table\"] = q_table\n",
    "                    q_dict[dis][eps][alpha][dr][\"rewards\"] = rewards \n",
    "                    q_dict[dis][eps][alpha][dr][\"iteration\"] = q_solve_iter\n",
    "                    q_dict[dis][eps][alpha][dr][\"time_spent\"] = q_solve_time\n",
    "                    q_dict[dis][eps][alpha][dr][\"policy\"] = q_policy\n",
    "                    if not mute:\n",
    "                        print(\"gamma: {} total_eps: {} lr: {}, dr: {}\".format(dis, eps, alpha, dr))\n",
    "                        print(\"Iteration: {} time: {}\".format(q_solve_iter, q_solve_time))\n",
    "                        print(\"Mean reward: {} - mean eps: {}\".format(q_mrews, q_meps))\n",
    "    return q_dict"
   ]
  },
  {
   "cell_type": "code",
   "execution_count": 27,
   "id": "26e3d9ca",
   "metadata": {},
   "outputs": [],
   "source": [
    "def map_discretize(the_map):\n",
    "    size = len(the_map)\n",
    "    dis_map = np.zeros((size,size))\n",
    "    for i, row in enumerate(the_map):\n",
    "        for j, loc in enumerate(row):\n",
    "            if loc == \"S\":\n",
    "                dis_map[i, j] = 0\n",
    "            elif loc == \"F\":\n",
    "                dis_map[i, j] = 0\n",
    "            elif loc == \"H\":\n",
    "                dis_map[i, j] = -1\n",
    "            elif loc == \"G\":\n",
    "                dis_map[i, j] = 1\n",
    "    return dis_map\n",
    "\n",
    "\n",
    "def policy_numpy(policy):\n",
    "    size = int(np.sqrt(len(policy)))\n",
    "    pol = np.asarray(policy)\n",
    "    pol = pol.reshape((size, size))\n",
    "    return pol\n",
    "\n",
    "\n",
    "def see_policy(map_size, policy):\n",
    "    map_name = str(map_size)+\"x\"+str(map_size)\n",
    "    data = map_discretize(MAPS[map_name])\n",
    "    np_pol = policy_numpy(policy)\n",
    "    plt.imshow(data, interpolation=\"nearest\", cmap='ocean')\n",
    "\n",
    "    for i in range(np_pol[0].size):\n",
    "        for j in range(np_pol[0].size):\n",
    "            arrow = '\\u2190'\n",
    "            if np_pol[i, j] == 1:\n",
    "                arrow = '\\u2193'\n",
    "            elif np_pol[i, j] == 2:\n",
    "                arrow = '\\u2192'\n",
    "            elif np_pol[i, j] == 3:\n",
    "                arrow = '\\u2191'\n",
    "            text = plt.text(j, i, arrow,\n",
    "                           ha=\"center\", va=\"center\", color=\"r\")\n",
    "    plt.show()"
   ]
  },
  {
   "cell_type": "code",
   "execution_count": 29,
   "id": "cb7180d0",
   "metadata": {},
   "outputs": [],
   "source": [
    "def dict_to_df(the_dict):\n",
    "    the_df = pd.DataFrame(columns=[\"Discount Rate\", \"Training Iterations\", \"Learning Rate\", \n",
    "                                   \"Decay Rate\", \"Reward\", \"Time Spent\"])\n",
    "    for dis in the_dict:\n",
    "        for eps in the_dict[dis]:\n",
    "            for lr in the_dict[dis][eps]:\n",
    "                for dr in the_dict[dis][eps][lr]:\n",
    "                    rew = the_dict[dis][eps][lr][dr][\"mean_reward\"]\n",
    "                    time_spent = the_dict[dis][eps][lr][dr][\"time_spent\"].total_seconds()\n",
    "                    dic = {\"Discount Rate\": dis, \"Training Iterations\": eps, \"Learning Rate\":lr, \n",
    "                           \"Decay Rate\":dr, \"Reward\": rew, \"Time Spent\": time_spent}\n",
    "                    the_df = the_df.append(dic, ignore_index=True)\n",
    "    return the_df"
   ]
  },
  {
   "cell_type": "code",
   "execution_count": 8,
   "id": "0be6f23a",
   "metadata": {},
   "outputs": [],
   "source": [
    "import numpy as np\n",
    "def running_mean(x, N):\n",
    "    cumsum = np.cumsum(np.insert(x, 0, 0)) \n",
    "    return (cumsum[N:] - cumsum[:-N]) / float(N)"
   ]
  },
  {
   "cell_type": "code",
   "execution_count": 9,
   "id": "8988dc67",
   "metadata": {},
   "outputs": [
    {
     "name": "stdout",
     "output_type": "stream",
     "text": [
      "Solved in: 10000.0 episodes and 0:00:01.487804 seconds\n",
      "gamma: 0.5 total_eps: 10000.0 lr: 0.01, dr: 1e-06\n",
      "Iteration: 10000.0 time: 0:00:01.487804\n",
      "Mean reward: 0.051 - mean eps: 6.419\n",
      "Solved in: 10000.0 episodes and 0:00:01.474956 seconds\n",
      "gamma: 0.5 total_eps: 10000.0 lr: 0.1, dr: 1e-06\n",
      "Iteration: 10000.0 time: 0:00:01.474956\n",
      "Mean reward: 0.199 - mean eps: 18.729\n",
      "Solved in: 100000.0 episodes and 0:00:15.207723 seconds\n",
      "gamma: 0.5 total_eps: 100000.0 lr: 0.01, dr: 1e-06\n",
      "Iteration: 100000.0 time: 0:00:15.207723\n",
      "Mean reward: 0.121 - mean eps: 10.879\n",
      "Solved in: 100000.0 episodes and 0:00:14.805473 seconds\n",
      "gamma: 0.5 total_eps: 100000.0 lr: 0.1, dr: 1e-06\n",
      "Iteration: 100000.0 time: 0:00:14.805473\n",
      "Mean reward: 0.158 - mean eps: 12.444\n",
      "Solved in: 1000000.0 episodes and 0:03:52.686818 seconds\n",
      "gamma: 0.5 total_eps: 1000000.0 lr: 0.01, dr: 1e-06\n",
      "Iteration: 1000000.0 time: 0:03:52.686818\n",
      "Mean reward: 0.285 - mean eps: 21.691\n",
      "Solved in: 1000000.0 episodes and 0:03:14.444986 seconds\n",
      "gamma: 0.5 total_eps: 1000000.0 lr: 0.1, dr: 1e-06\n",
      "Iteration: 1000000.0 time: 0:03:14.444986\n",
      "Mean reward: 0.103 - mean eps: 11.931\n",
      "Solved in: 10000.0 episodes and 0:00:01.488469 seconds\n",
      "gamma: 0.7 total_eps: 10000.0 lr: 0.01, dr: 1e-06\n",
      "Iteration: 10000.0 time: 0:00:01.488469\n",
      "Mean reward: 0.142 - mean eps: 17.125\n",
      "Solved in: 10000.0 episodes and 0:00:01.479401 seconds\n",
      "gamma: 0.7 total_eps: 10000.0 lr: 0.1, dr: 1e-06\n",
      "Iteration: 10000.0 time: 0:00:01.479401\n",
      "Mean reward: 0.111 - mean eps: 13.247\n",
      "Solved in: 100000.0 episodes and 0:00:15.414378 seconds\n",
      "gamma: 0.7 total_eps: 100000.0 lr: 0.01, dr: 1e-06\n",
      "Iteration: 100000.0 time: 0:00:15.414378\n",
      "Mean reward: 0.246 - mean eps: 16.139\n",
      "Solved in: 100000.0 episodes and 0:00:15.813059 seconds\n",
      "gamma: 0.7 total_eps: 100000.0 lr: 0.1, dr: 1e-06\n",
      "Iteration: 100000.0 time: 0:00:15.813059\n",
      "Mean reward: 0.059 - mean eps: 7.192\n",
      "Solved in: 1000000.0 episodes and 0:04:52.284103 seconds\n",
      "gamma: 0.7 total_eps: 1000000.0 lr: 0.01, dr: 1e-06\n",
      "Iteration: 1000000.0 time: 0:04:52.284103\n",
      "Mean reward: 0.219 - mean eps: 15.562\n",
      "Solved in: 1000000.0 episodes and 0:03:48.596937 seconds\n",
      "gamma: 0.7 total_eps: 1000000.0 lr: 0.1, dr: 1e-06\n",
      "Iteration: 1000000.0 time: 0:03:48.596937\n",
      "Mean reward: 0.091 - mean eps: 9.502\n",
      "Solved in: 10000.0 episodes and 0:00:01.477022 seconds\n",
      "gamma: 0.9 total_eps: 10000.0 lr: 0.01, dr: 1e-06\n",
      "Iteration: 10000.0 time: 0:00:01.477022\n",
      "Mean reward: 0.3 - mean eps: 25.06\n",
      "Solved in: 10000.0 episodes and 0:00:01.459436 seconds\n",
      "gamma: 0.9 total_eps: 10000.0 lr: 0.1, dr: 1e-06\n",
      "Iteration: 10000.0 time: 0:00:01.459436\n",
      "Mean reward: 0.488 - mean eps: 33.336\n",
      "Solved in: 100000.0 episodes and 0:00:15.390850 seconds\n",
      "gamma: 0.9 total_eps: 100000.0 lr: 0.01, dr: 1e-06\n",
      "Iteration: 100000.0 time: 0:00:15.390850\n",
      "Mean reward: 0.518 - mean eps: 30.223\n",
      "Solved in: 100000.0 episodes and 0:00:15.449709 seconds\n",
      "gamma: 0.9 total_eps: 100000.0 lr: 0.1, dr: 1e-06\n",
      "Iteration: 100000.0 time: 0:00:15.449709\n",
      "Mean reward: 0.445 - mean eps: 27.143\n",
      "Solved in: 1000000.0 episodes and 0:05:55.946446 seconds\n",
      "gamma: 0.9 total_eps: 1000000.0 lr: 0.01, dr: 1e-06\n",
      "Iteration: 1000000.0 time: 0:05:55.946446\n",
      "Mean reward: 0.734 - mean eps: 41.636\n",
      "Solved in: 1000000.0 episodes and 0:05:11.999715 seconds\n",
      "gamma: 0.9 total_eps: 1000000.0 lr: 0.1, dr: 1e-06\n",
      "Iteration: 1000000.0 time: 0:05:11.999715\n",
      "Mean reward: 0.565 - mean eps: 37.264\n",
      "Solved in: 10000.0 episodes and 0:00:01.458899 seconds\n",
      "gamma: 0.99 total_eps: 10000.0 lr: 0.01, dr: 1e-06\n",
      "Iteration: 10000.0 time: 0:00:01.458899\n",
      "Mean reward: 0.22 - mean eps: 21.7\n",
      "Solved in: 10000.0 episodes and 0:00:01.487979 seconds\n",
      "gamma: 0.99 total_eps: 10000.0 lr: 0.1, dr: 1e-06\n",
      "Iteration: 10000.0 time: 0:00:01.487979\n",
      "Mean reward: 0.751 - mean eps: 43.818\n",
      "Solved in: 100000.0 episodes and 0:00:15.448538 seconds\n",
      "gamma: 0.99 total_eps: 100000.0 lr: 0.01, dr: 1e-06\n",
      "Iteration: 100000.0 time: 0:00:15.448538\n",
      "Mean reward: 0.753 - mean eps: 44.362\n",
      "Solved in: 100000.0 episodes and 0:00:15.625310 seconds\n",
      "gamma: 0.99 total_eps: 100000.0 lr: 0.1, dr: 1e-06\n",
      "Iteration: 100000.0 time: 0:00:15.625310\n",
      "Mean reward: 0.641 - mean eps: 45.693\n",
      "Solved in: 1000000.0 episodes and 0:06:30.891874 seconds\n",
      "gamma: 0.99 total_eps: 1000000.0 lr: 0.01, dr: 1e-06\n",
      "Iteration: 1000000.0 time: 0:06:30.891874\n",
      "Mean reward: 0.761 - mean eps: 44.147\n",
      "Solved in: 1000000.0 episodes and 0:06:27.396754 seconds\n",
      "gamma: 0.99 total_eps: 1000000.0 lr: 0.1, dr: 1e-06\n",
      "Iteration: 1000000.0 time: 0:06:27.396754\n",
      "Mean reward: 0.736 - mean eps: 42.111\n"
     ]
    }
   ],
   "source": [
    "env = gym.make('FrozenLake-v1')\n",
    "episodes = [1e4, 1e5, 1e6]\n",
    "decays = [1e-6]\n",
    "\n",
    "q_dict = train_and_test_q_learning(env, discount=[0.5, 0.7, 0.9, 0.99], total_episodes=episodes,\n",
    "                          alphas=[0.01, 0.1], decay_rates=decays)"
   ]
  },
  {
   "cell_type": "code",
   "execution_count": 23,
   "id": "b386ad3b",
   "metadata": {},
   "outputs": [
    {
     "ename": "KeyError",
     "evalue": "1e-06",
     "output_type": "error",
     "traceback": [
      "\u001b[1;31m---------------------------------------------------------------------------\u001b[0m",
      "\u001b[1;31mKeyError\u001b[0m                                  Traceback (most recent call last)",
      "\u001b[1;32m<ipython-input-23-d587985f7d18>\u001b[0m in \u001b[0;36m<module>\u001b[1;34m\u001b[0m\n\u001b[1;32m----> 1\u001b[1;33m \u001b[0mpol\u001b[0m \u001b[1;33m=\u001b[0m \u001b[0mq_dict\u001b[0m\u001b[1;33m[\u001b[0m\u001b[1;36m0.99\u001b[0m\u001b[1;33m]\u001b[0m\u001b[1;33m[\u001b[0m\u001b[0mint\u001b[0m\u001b[1;33m(\u001b[0m\u001b[1;36m1e6\u001b[0m\u001b[1;33m)\u001b[0m\u001b[1;33m]\u001b[0m\u001b[1;33m[\u001b[0m\u001b[1;36m0.1\u001b[0m\u001b[1;33m]\u001b[0m\u001b[1;33m[\u001b[0m\u001b[1;36m1e-06\u001b[0m\u001b[1;33m]\u001b[0m\u001b[1;33m[\u001b[0m\u001b[1;34m'policy'\u001b[0m\u001b[1;33m]\u001b[0m\u001b[1;33m\u001b[0m\u001b[1;33m\u001b[0m\u001b[0m\n\u001b[0m\u001b[0;32m      2\u001b[0m \u001b[0msee_policy\u001b[0m\u001b[1;33m(\u001b[0m\u001b[1;36m4\u001b[0m\u001b[1;33m,\u001b[0m \u001b[0mpol\u001b[0m\u001b[1;33m)\u001b[0m\u001b[1;33m\u001b[0m\u001b[1;33m\u001b[0m\u001b[0m\n",
      "\u001b[1;31mKeyError\u001b[0m: 1e-06"
     ]
    }
   ],
   "source": [
    "pol = q_dict[0.99][int(1e6)][0.1][1e-06]['policy']\n",
    "see_policy(4, pol)"
   ]
  },
  {
   "cell_type": "code",
   "execution_count": 11,
   "id": "6855fadf",
   "metadata": {},
   "outputs": [
    {
     "name": "stdout",
     "output_type": "stream",
     "text": [
      "Solved in: 10000.0 episodes and 0:00:09.341585 seconds\n",
      "gamma: 0.99 total_eps: 10000.0 lr: 0.1, dr: 0.001\n",
      "Iteration: 10000.0 time: 0:00:09.341585\n",
      "Mean reward: 0.743 - mean eps: 41.538\n",
      "Solved in: 10000.0 episodes and 0:00:01.566192 seconds\n",
      "gamma: 0.99 total_eps: 10000.0 lr: 0.1, dr: 1e-05\n",
      "Iteration: 10000.0 time: 0:00:01.566192\n",
      "Mean reward: 0.668 - mean eps: 45.103\n",
      "Solved in: 10000.0 episodes and 0:00:05.387493 seconds\n",
      "gamma: 0.99 total_eps: 10000.0 lr: 0.01, dr: 0.001\n",
      "Iteration: 10000.0 time: 0:00:05.387493\n",
      "Mean reward: 0.231 - mean eps: 22.701\n",
      "Solved in: 10000.0 episodes and 0:00:01.524705 seconds\n",
      "gamma: 0.99 total_eps: 10000.0 lr: 0.01, dr: 1e-05\n",
      "Iteration: 10000.0 time: 0:00:01.524705\n",
      "Mean reward: 0.509 - mean eps: 33.64\n",
      "Solved in: 100000.0 episodes and 0:01:37.692265 seconds\n",
      "gamma: 0.99 total_eps: 100000.0 lr: 0.1, dr: 0.001\n",
      "Iteration: 100000.0 time: 0:01:37.692265\n",
      "Mean reward: 0.69 - mean eps: 40.744\n",
      "Solved in: 100000.0 episodes and 0:00:38.411040 seconds\n",
      "gamma: 0.99 total_eps: 100000.0 lr: 0.1, dr: 1e-05\n",
      "Iteration: 100000.0 time: 0:00:38.411040\n",
      "Mean reward: 0.482 - mean eps: 62.106\n",
      "Solved in: 100000.0 episodes and 0:00:56.900623 seconds\n",
      "gamma: 0.99 total_eps: 100000.0 lr: 0.01, dr: 0.001\n",
      "Iteration: 100000.0 time: 0:00:56.900623\n",
      "Mean reward: 0.117 - mean eps: 23.628\n",
      "Solved in: 100000.0 episodes and 0:00:39.327147 seconds\n",
      "gamma: 0.99 total_eps: 100000.0 lr: 0.01, dr: 1e-05\n",
      "Iteration: 100000.0 time: 0:00:39.327147\n",
      "Mean reward: 0.741 - mean eps: 45.942\n",
      "Solved in: 1000000.0 episodes and 0:17:43.836221 seconds\n",
      "gamma: 0.99 total_eps: 1000000.0 lr: 0.1, dr: 0.001\n",
      "Iteration: 1000000.0 time: 0:17:43.836221\n",
      "Mean reward: 0.736 - mean eps: 44.728\n",
      "Solved in: 1000000.0 episodes and 0:16:48.871907 seconds\n",
      "gamma: 0.99 total_eps: 1000000.0 lr: 0.1, dr: 1e-05\n",
      "Iteration: 1000000.0 time: 0:16:48.871907\n",
      "Mean reward: 0.726 - mean eps: 45.465\n",
      "Solved in: 1000000.0 episodes and 0:16:21.688328 seconds\n",
      "gamma: 0.99 total_eps: 1000000.0 lr: 0.01, dr: 0.001\n",
      "Iteration: 1000000.0 time: 0:16:21.688328\n",
      "Mean reward: 0.717 - mean eps: 45.38\n",
      "Solved in: 1000000.0 episodes and 0:16:34.156170 seconds\n",
      "gamma: 0.99 total_eps: 1000000.0 lr: 0.01, dr: 1e-05\n",
      "Iteration: 1000000.0 time: 0:16:34.156170\n",
      "Mean reward: 0.748 - mean eps: 44.615\n"
     ]
    }
   ],
   "source": [
    "episodes = [1e4, 1e5, 1e6]\n",
    "decays = [1e-3, 1e-5]\n",
    "q_dict = train_and_test_q_learning(env, discount= [0.99], total_episodes=episodes,\n",
    "                          alphas=[0.1, 0.01], decay_rates=decays)"
   ]
  },
  {
   "cell_type": "code",
   "execution_count": 16,
   "id": "6dccef26",
   "metadata": {},
   "outputs": [
    {
     "name": "stderr",
     "output_type": "stream",
     "text": [
      "D:\\App\\anaconda3\\lib\\site-packages\\seaborn\\_decorators.py:36: FutureWarning: Pass the following variables as keyword args: x, y. From version 0.12, the only valid positional argument will be `data`, and passing other arguments without an explicit keyword will result in an error or misinterpretation.\n",
      "  warnings.warn(\n"
     ]
    },
    {
     "data": {
      "text/plain": [
       "<AxesSubplot:>"
      ]
     },
     "execution_count": 16,
     "metadata": {},
     "output_type": "execute_result"
    },
    {
     "data": {
      "image/png": "[encoded data removed]",
      "text/plain": [
       "<Figure size 432x288 with 1 Axes>"
      ]
     },
     "metadata": {
      "needs_background": "light"
     },
     "output_type": "display_data"
    }
   ],
   "source": [
    "rews = q_dict[0.99][int(1e6)][0.1][1e-03]['rewards']\n",
    "run = 1000\n",
    "rew_running = running_mean(rews, run)\n",
    "indices = [i+run for i in list(range(len(rew_running)))]\n",
    "sns.lineplot(np.log10(indices), rew_running, color='g')"
   ]
  },
  {
   "cell_type": "code",
   "execution_count": 15,
   "id": "000b7b3a",
   "metadata": {},
   "outputs": [
    {
     "name": "stderr",
     "output_type": "stream",
     "text": [
      "D:\\App\\anaconda3\\lib\\site-packages\\seaborn\\_decorators.py:36: FutureWarning: Pass the following variables as keyword args: x, y. From version 0.12, the only valid positional argument will be `data`, and passing other arguments without an explicit keyword will result in an error or misinterpretation.\n",
      "  warnings.warn(\n"
     ]
    },
    {
     "data": {
      "text/plain": [
       "<AxesSubplot:>"
      ]
     },
     "execution_count": 15,
     "metadata": {},
     "output_type": "execute_result"
    },
    {
     "data": {
      "image/png": "[encoded data removed]",
      "text/plain": [
       "<Figure size 432x288 with 1 Axes>"
      ]
     },
     "metadata": {
      "needs_background": "light"
     },
     "output_type": "display_data"
    }
   ],
   "source": [
    "rews = q_dict[0.99][int(1e6)][0.01][1e-03]['rewards']\n",
    "run = 1000\n",
    "rew_running = running_mean(rews, run)\n",
    "indices = [i+run for i in list(range(len(rew_running)))]\n",
    "sns.lineplot(np.log10(indices), rew_running, color='r')"
   ]
  },
  {
   "cell_type": "code",
   "execution_count": 17,
   "id": "8d92b4e3",
   "metadata": {},
   "outputs": [
    {
     "name": "stderr",
     "output_type": "stream",
     "text": [
      "D:\\App\\anaconda3\\lib\\site-packages\\seaborn\\_decorators.py:36: FutureWarning: Pass the following variables as keyword args: x, y. From version 0.12, the only valid positional argument will be `data`, and passing other arguments without an explicit keyword will result in an error or misinterpretation.\n",
      "  warnings.warn(\n"
     ]
    },
    {
     "data": {
      "text/plain": [
       "<AxesSubplot:>"
      ]
     },
     "execution_count": 17,
     "metadata": {},
     "output_type": "execute_result"
    },
    {
     "data": {
      "image/png": "[encoded data removed]",
      "text/plain": [
       "<Figure size 432x288 with 1 Axes>"
      ]
     },
     "metadata": {
      "needs_background": "light"
     },
     "output_type": "display_data"
    }
   ],
   "source": [
    "rews = q_dict[0.99][int(1e6)][0.01][1e-05]['rewards']\n",
    "run = 1000\n",
    "rew_running = running_mean(rews, run)\n",
    "indices = [i+run for i in list(range(len(rew_running)))]\n",
    "sns.lineplot(np.log10(indices), rew_running, color='b')"
   ]
  },
  {
   "cell_type": "code",
   "execution_count": 32,
   "id": "2ab32073",
   "metadata": {},
   "outputs": [
    {
     "data": {
      "image/png": "[encoded data removed]",
      "text/plain": [
       "<Figure size 864x576 with 1 Axes>"
      ]
     },
     "metadata": {
      "needs_background": "light"
     },
     "output_type": "display_data"
    }
   ],
   "source": [
    "q4 = dict_to_df(q_dict)\n",
    "# plt.figure(figsize=(12, 8))\n",
    "pl = sns.lineplot(x=\"Training Iterations\", y=\"Reward\", data=q4)\n",
    "pl.figure.set_figwidth(12)\n",
    "pl.figure.set_figheight(8)"
   ]
  },
  {
   "cell_type": "code",
   "execution_count": 31,
   "id": "e6412343",
   "metadata": {},
   "outputs": [
    {
     "data": {
      "text/html": [
       "<div>\n",
       "<style scoped>\n",
       "    .dataframe tbody tr th:only-of-type {\n",
       "        vertical-align: middle;\n",
       "    }\n",
       "\n",
       "    .dataframe tbody tr th {\n",
       "        vertical-align: top;\n",
       "    }\n",
       "\n",
       "    .dataframe thead th {\n",
       "        text-align: right;\n",
       "    }\n",
       "</style>\n",
       "<table border=\"1\" class=\"dataframe\">\n",
       "  <thead>\n",
       "    <tr style=\"text-align: right;\">\n",
       "      <th></th>\n",
       "      <th>Discount Rate</th>\n",
       "      <th>Training Iterations</th>\n",
       "      <th>Learning Rate</th>\n",
       "      <th>Decay Rate</th>\n",
       "      <th>Reward</th>\n",
       "      <th>Time Spent</th>\n",
       "    </tr>\n",
       "  </thead>\n",
       "  <tbody>\n",
       "    <tr>\n",
       "      <th>0</th>\n",
       "      <td>0.99</td>\n",
       "      <td>10000.0</td>\n",
       "      <td>0.10</td>\n",
       "      <td>0.00100</td>\n",
       "      <td>0.743</td>\n",
       "      <td>9.341585</td>\n",
       "    </tr>\n",
       "    <tr>\n",
       "      <th>1</th>\n",
       "      <td>0.99</td>\n",
       "      <td>10000.0</td>\n",
       "      <td>0.10</td>\n",
       "      <td>0.00001</td>\n",
       "      <td>0.668</td>\n",
       "      <td>1.566192</td>\n",
       "    </tr>\n",
       "    <tr>\n",
       "      <th>2</th>\n",
       "      <td>0.99</td>\n",
       "      <td>10000.0</td>\n",
       "      <td>0.01</td>\n",
       "      <td>0.00100</td>\n",
       "      <td>0.231</td>\n",
       "      <td>5.387493</td>\n",
       "    </tr>\n",
       "    <tr>\n",
       "      <th>3</th>\n",
       "      <td>0.99</td>\n",
       "      <td>10000.0</td>\n",
       "      <td>0.01</td>\n",
       "      <td>0.00001</td>\n",
       "      <td>0.509</td>\n",
       "      <td>1.524705</td>\n",
       "    </tr>\n",
       "    <tr>\n",
       "      <th>4</th>\n",
       "      <td>0.99</td>\n",
       "      <td>100000.0</td>\n",
       "      <td>0.10</td>\n",
       "      <td>0.00100</td>\n",
       "      <td>0.690</td>\n",
       "      <td>97.692265</td>\n",
       "    </tr>\n",
       "    <tr>\n",
       "      <th>5</th>\n",
       "      <td>0.99</td>\n",
       "      <td>100000.0</td>\n",
       "      <td>0.10</td>\n",
       "      <td>0.00001</td>\n",
       "      <td>0.482</td>\n",
       "      <td>38.411040</td>\n",
       "    </tr>\n",
       "    <tr>\n",
       "      <th>6</th>\n",
       "      <td>0.99</td>\n",
       "      <td>100000.0</td>\n",
       "      <td>0.01</td>\n",
       "      <td>0.00100</td>\n",
       "      <td>0.117</td>\n",
       "      <td>56.900623</td>\n",
       "    </tr>\n",
       "    <tr>\n",
       "      <th>7</th>\n",
       "      <td>0.99</td>\n",
       "      <td>100000.0</td>\n",
       "      <td>0.01</td>\n",
       "      <td>0.00001</td>\n",
       "      <td>0.741</td>\n",
       "      <td>39.327147</td>\n",
       "    </tr>\n",
       "    <tr>\n",
       "      <th>8</th>\n",
       "      <td>0.99</td>\n",
       "      <td>1000000.0</td>\n",
       "      <td>0.10</td>\n",
       "      <td>0.00100</td>\n",
       "      <td>0.736</td>\n",
       "      <td>1063.836221</td>\n",
       "    </tr>\n",
       "    <tr>\n",
       "      <th>9</th>\n",
       "      <td>0.99</td>\n",
       "      <td>1000000.0</td>\n",
       "      <td>0.10</td>\n",
       "      <td>0.00001</td>\n",
       "      <td>0.726</td>\n",
       "      <td>1008.871907</td>\n",
       "    </tr>\n",
       "    <tr>\n",
       "      <th>10</th>\n",
       "      <td>0.99</td>\n",
       "      <td>1000000.0</td>\n",
       "      <td>0.01</td>\n",
       "      <td>0.00100</td>\n",
       "      <td>0.717</td>\n",
       "      <td>981.688328</td>\n",
       "    </tr>\n",
       "    <tr>\n",
       "      <th>11</th>\n",
       "      <td>0.99</td>\n",
       "      <td>1000000.0</td>\n",
       "      <td>0.01</td>\n",
       "      <td>0.00001</td>\n",
       "      <td>0.748</td>\n",
       "      <td>994.156170</td>\n",
       "    </tr>\n",
       "  </tbody>\n",
       "</table>\n",
       "</div>"
      ],
      "text/plain": [
       "    Discount Rate  Training Iterations  Learning Rate  Decay Rate  Reward  \\\n",
       "0            0.99              10000.0           0.10     0.00100   0.743   \n",
       "1            0.99              10000.0           0.10     0.00001   0.668   \n",
       "2            0.99              10000.0           0.01     0.00100   0.231   \n",
       "3            0.99              10000.0           0.01     0.00001   0.509   \n",
       "4            0.99             100000.0           0.10     0.00100   0.690   \n",
       "5            0.99             100000.0           0.10     0.00001   0.482   \n",
       "6            0.99             100000.0           0.01     0.00100   0.117   \n",
       "7            0.99             100000.0           0.01     0.00001   0.741   \n",
       "8            0.99            1000000.0           0.10     0.00100   0.736   \n",
       "9            0.99            1000000.0           0.10     0.00001   0.726   \n",
       "10           0.99            1000000.0           0.01     0.00100   0.717   \n",
       "11           0.99            1000000.0           0.01     0.00001   0.748   \n",
       "\n",
       "     Time Spent  \n",
       "0      9.341585  \n",
       "1      1.566192  \n",
       "2      5.387493  \n",
       "3      1.524705  \n",
       "4     97.692265  \n",
       "5     38.411040  \n",
       "6     56.900623  \n",
       "7     39.327147  \n",
       "8   1063.836221  \n",
       "9   1008.871907  \n",
       "10   981.688328  \n",
       "11   994.156170  "
      ]
     },
     "execution_count": 31,
     "metadata": {},
     "output_type": "execute_result"
    }
   ],
   "source": [
    "q4"
   ]
  },
  {
   "cell_type": "code",
   "execution_count": 28,
   "id": "4ceba911",
   "metadata": {},
   "outputs": [
    {
     "data": {
      "image/png": "[encoded data removed]",
      "text/plain": [
       "<Figure size 432x288 with 1 Axes>"
      ]
     },
     "metadata": {
      "needs_background": "light"
     },
     "output_type": "display_data"
    }
   ],
   "source": [
    "pol = q_dict[0.99][int(1e6)][0.01][1e-03]['policy']\n",
    "see_policy(4, pol)"
   ]
  },
  {
   "cell_type": "markdown",
   "id": "1383ef84",
   "metadata": {},
   "source": [
    "## 16x16"
   ]
  },
  {
   "cell_type": "code",
   "execution_count": 34,
   "id": "f0630ad5",
   "metadata": {},
   "outputs": [
    {
     "name": "stdout",
     "output_type": "stream",
     "text": [
      "Solved in: 10000.0 episodes and 0:00:03.825396 seconds\n",
      "gamma: 0.99 total_eps: 10000.0 lr: 0.1, dr: 0.001\n",
      "Iteration: 10000.0 time: 0:00:03.825396\n",
      "Mean reward: 0.0 - mean eps: 30.543\n",
      "Solved in: 10000.0 episodes and 0:00:02.811594 seconds\n",
      "gamma: 0.99 total_eps: 10000.0 lr: 0.1, dr: 1e-05\n",
      "Iteration: 10000.0 time: 0:00:02.811594\n",
      "Mean reward: 0.0 - mean eps: 29.996\n",
      "Solved in: 10000.0 episodes and 0:00:03.861827 seconds\n",
      "gamma: 0.99 total_eps: 10000.0 lr: 0.01, dr: 0.001\n",
      "Iteration: 10000.0 time: 0:00:03.861827\n",
      "Mean reward: 0.0 - mean eps: 30.351\n",
      "Solved in: 10000.0 episodes and 0:00:02.869653 seconds\n",
      "gamma: 0.99 total_eps: 10000.0 lr: 0.01, dr: 1e-05\n",
      "Iteration: 10000.0 time: 0:00:02.869653\n",
      "Mean reward: 0.0 - mean eps: 30.232\n",
      "Solved in: 100000.0 episodes and 0:00:38.149947 seconds\n",
      "gamma: 0.99 total_eps: 100000.0 lr: 0.1, dr: 0.001\n",
      "Iteration: 100000.0 time: 0:00:38.149947\n",
      "Mean reward: 0.0 - mean eps: 29.792\n",
      "Solved in: 100000.0 episodes and 0:00:32.949782 seconds\n",
      "gamma: 0.99 total_eps: 100000.0 lr: 0.1, dr: 1e-05\n",
      "Iteration: 100000.0 time: 0:00:32.949782\n",
      "Mean reward: 0.0 - mean eps: 29.845\n",
      "Solved in: 100000.0 episodes and 0:00:38.663382 seconds\n",
      "gamma: 0.99 total_eps: 100000.0 lr: 0.01, dr: 0.001\n",
      "Iteration: 100000.0 time: 0:00:38.663382\n",
      "Mean reward: 0.0 - mean eps: 31.017\n",
      "Solved in: 100000.0 episodes and 0:00:32.912731 seconds\n",
      "gamma: 0.99 total_eps: 100000.0 lr: 0.01, dr: 1e-05\n",
      "Iteration: 100000.0 time: 0:00:32.912731\n",
      "Mean reward: 0.0 - mean eps: 29.329\n",
      "Solved in: 1000000.0 episodes and 0:06:20.427644 seconds\n",
      "gamma: 0.99 total_eps: 1000000.0 lr: 0.1, dr: 0.001\n",
      "Iteration: 1000000.0 time: 0:06:20.427644\n",
      "Mean reward: 0.0 - mean eps: 31.023\n",
      "Solved in: 1000000.0 episodes and 0:06:14.169557 seconds\n",
      "gamma: 0.99 total_eps: 1000000.0 lr: 0.1, dr: 1e-05\n",
      "Iteration: 1000000.0 time: 0:06:14.169557\n",
      "Mean reward: 0.0 - mean eps: 30.76\n",
      "Solved in: 1000000.0 episodes and 0:06:19.796430 seconds\n",
      "gamma: 0.99 total_eps: 1000000.0 lr: 0.01, dr: 0.001\n",
      "Iteration: 1000000.0 time: 0:06:19.796430\n",
      "Mean reward: 0.0 - mean eps: 31.193\n",
      "Solved in: 1000000.0 episodes and 0:06:16.760580 seconds\n",
      "gamma: 0.99 total_eps: 1000000.0 lr: 0.01, dr: 1e-05\n",
      "Iteration: 1000000.0 time: 0:06:16.760580\n",
      "Mean reward: 0.0 - mean eps: 30.986\n"
     ]
    }
   ],
   "source": [
    "env = FrozenLakeEnv(desc=MAPS[\"16x16\"])\n",
    "episodes = [1e4, 1e5, 1e6]\n",
    "decays = [1e-3, 1e-5]\n",
    "q_dict16 = train_and_test_q_learning(env, discount= [0.99], total_episodes=episodes,\n",
    "                          alphas=[0.1, 0.01], decay_rates=decays)"
   ]
  },
  {
   "cell_type": "code",
   "execution_count": 35,
   "id": "ab1beade",
   "metadata": {},
   "outputs": [
    {
     "data": {
      "image/png": "[encoded data removed]",
      "text/plain": [
       "<Figure size 432x288 with 1 Axes>"
      ]
     },
     "metadata": {
      "needs_background": "light"
     },
     "output_type": "display_data"
    }
   ],
   "source": [
    "pol = q_dict16[0.99][int(1e6)][0.1][1e-05]['policy']\n",
    "see_policy(16, pol)"
   ]
  },
  {
   "cell_type": "code",
   "execution_count": 36,
   "id": "c6c9810c",
   "metadata": {},
   "outputs": [
    {
     "data": {
      "text/plain": [
       "False"
      ]
     },
     "execution_count": 36,
     "metadata": {},
     "output_type": "execute_result"
    }
   ],
   "source": [
    "(q_dict16[0.99][int(1e6)][0.1][1e-05]['q-table'] > 0).any()"
   ]
  },
  {
   "cell_type": "code",
   "execution_count": 37,
   "id": "eca17c48",
   "metadata": {},
   "outputs": [
    {
     "name": "stderr",
     "output_type": "stream",
     "text": [
      "D:\\App\\anaconda3\\lib\\site-packages\\seaborn\\_decorators.py:36: FutureWarning: Pass the following variables as keyword args: x, y. From version 0.12, the only valid positional argument will be `data`, and passing other arguments without an explicit keyword will result in an error or misinterpretation.\n",
      "  warnings.warn(\n"
     ]
    },
    {
     "data": {
      "text/plain": [
       "<AxesSubplot:>"
      ]
     },
     "execution_count": 37,
     "metadata": {},
     "output_type": "execute_result"
    },
    {
     "data": {
      "image/png": "[encoded data removed]",
      "text/plain": [
       "<Figure size 432x288 with 1 Axes>"
      ]
     },
     "metadata": {
      "needs_background": "light"
     },
     "output_type": "display_data"
    }
   ],
   "source": [
    "rews = q_dict16[0.99][int(1e6)][0.1][1e-05]['rewards']\n",
    "run = 1000\n",
    "rew_running = running_mean(rews, run)\n",
    "indices = [i+run for i in list(range(len(rew_running)))]\n",
    "sns.lineplot(np.log10(indices), rew_running)"
   ]
  },
  {
   "cell_type": "code",
   "execution_count": 38,
   "id": "adf02695",
   "metadata": {},
   "outputs": [
    {
     "data": {
      "text/html": [
       "<div>\n",
       "<style scoped>\n",
       "    .dataframe tbody tr th:only-of-type {\n",
       "        vertical-align: middle;\n",
       "    }\n",
       "\n",
       "    .dataframe tbody tr th {\n",
       "        vertical-align: top;\n",
       "    }\n",
       "\n",
       "    .dataframe thead th {\n",
       "        text-align: right;\n",
       "    }\n",
       "</style>\n",
       "<table border=\"1\" class=\"dataframe\">\n",
       "  <thead>\n",
       "    <tr style=\"text-align: right;\">\n",
       "      <th></th>\n",
       "      <th>Discount Rate</th>\n",
       "      <th>Training Iterations</th>\n",
       "      <th>Learning Rate</th>\n",
       "      <th>Decay Rate</th>\n",
       "      <th>Reward</th>\n",
       "      <th>Time Spent</th>\n",
       "    </tr>\n",
       "  </thead>\n",
       "  <tbody>\n",
       "    <tr>\n",
       "      <th>0</th>\n",
       "      <td>0.99</td>\n",
       "      <td>10000.0</td>\n",
       "      <td>0.10</td>\n",
       "      <td>0.00100</td>\n",
       "      <td>0.0</td>\n",
       "      <td>3.825396</td>\n",
       "    </tr>\n",
       "    <tr>\n",
       "      <th>1</th>\n",
       "      <td>0.99</td>\n",
       "      <td>10000.0</td>\n",
       "      <td>0.10</td>\n",
       "      <td>0.00001</td>\n",
       "      <td>0.0</td>\n",
       "      <td>2.811594</td>\n",
       "    </tr>\n",
       "    <tr>\n",
       "      <th>2</th>\n",
       "      <td>0.99</td>\n",
       "      <td>10000.0</td>\n",
       "      <td>0.01</td>\n",
       "      <td>0.00100</td>\n",
       "      <td>0.0</td>\n",
       "      <td>3.861827</td>\n",
       "    </tr>\n",
       "    <tr>\n",
       "      <th>3</th>\n",
       "      <td>0.99</td>\n",
       "      <td>10000.0</td>\n",
       "      <td>0.01</td>\n",
       "      <td>0.00001</td>\n",
       "      <td>0.0</td>\n",
       "      <td>2.869653</td>\n",
       "    </tr>\n",
       "    <tr>\n",
       "      <th>4</th>\n",
       "      <td>0.99</td>\n",
       "      <td>100000.0</td>\n",
       "      <td>0.10</td>\n",
       "      <td>0.00100</td>\n",
       "      <td>0.0</td>\n",
       "      <td>38.149947</td>\n",
       "    </tr>\n",
       "    <tr>\n",
       "      <th>5</th>\n",
       "      <td>0.99</td>\n",
       "      <td>100000.0</td>\n",
       "      <td>0.10</td>\n",
       "      <td>0.00001</td>\n",
       "      <td>0.0</td>\n",
       "      <td>32.949782</td>\n",
       "    </tr>\n",
       "    <tr>\n",
       "      <th>6</th>\n",
       "      <td>0.99</td>\n",
       "      <td>100000.0</td>\n",
       "      <td>0.01</td>\n",
       "      <td>0.00100</td>\n",
       "      <td>0.0</td>\n",
       "      <td>38.663382</td>\n",
       "    </tr>\n",
       "    <tr>\n",
       "      <th>7</th>\n",
       "      <td>0.99</td>\n",
       "      <td>100000.0</td>\n",
       "      <td>0.01</td>\n",
       "      <td>0.00001</td>\n",
       "      <td>0.0</td>\n",
       "      <td>32.912731</td>\n",
       "    </tr>\n",
       "    <tr>\n",
       "      <th>8</th>\n",
       "      <td>0.99</td>\n",
       "      <td>1000000.0</td>\n",
       "      <td>0.10</td>\n",
       "      <td>0.00100</td>\n",
       "      <td>0.0</td>\n",
       "      <td>380.427644</td>\n",
       "    </tr>\n",
       "    <tr>\n",
       "      <th>9</th>\n",
       "      <td>0.99</td>\n",
       "      <td>1000000.0</td>\n",
       "      <td>0.10</td>\n",
       "      <td>0.00001</td>\n",
       "      <td>0.0</td>\n",
       "      <td>374.169557</td>\n",
       "    </tr>\n",
       "    <tr>\n",
       "      <th>10</th>\n",
       "      <td>0.99</td>\n",
       "      <td>1000000.0</td>\n",
       "      <td>0.01</td>\n",
       "      <td>0.00100</td>\n",
       "      <td>0.0</td>\n",
       "      <td>379.796430</td>\n",
       "    </tr>\n",
       "    <tr>\n",
       "      <th>11</th>\n",
       "      <td>0.99</td>\n",
       "      <td>1000000.0</td>\n",
       "      <td>0.01</td>\n",
       "      <td>0.00001</td>\n",
       "      <td>0.0</td>\n",
       "      <td>376.760580</td>\n",
       "    </tr>\n",
       "  </tbody>\n",
       "</table>\n",
       "</div>"
      ],
      "text/plain": [
       "    Discount Rate  Training Iterations  Learning Rate  Decay Rate  Reward  \\\n",
       "0            0.99              10000.0           0.10     0.00100     0.0   \n",
       "1            0.99              10000.0           0.10     0.00001     0.0   \n",
       "2            0.99              10000.0           0.01     0.00100     0.0   \n",
       "3            0.99              10000.0           0.01     0.00001     0.0   \n",
       "4            0.99             100000.0           0.10     0.00100     0.0   \n",
       "5            0.99             100000.0           0.10     0.00001     0.0   \n",
       "6            0.99             100000.0           0.01     0.00100     0.0   \n",
       "7            0.99             100000.0           0.01     0.00001     0.0   \n",
       "8            0.99            1000000.0           0.10     0.00100     0.0   \n",
       "9            0.99            1000000.0           0.10     0.00001     0.0   \n",
       "10           0.99            1000000.0           0.01     0.00100     0.0   \n",
       "11           0.99            1000000.0           0.01     0.00001     0.0   \n",
       "\n",
       "    Time Spent  \n",
       "0     3.825396  \n",
       "1     2.811594  \n",
       "2     3.861827  \n",
       "3     2.869653  \n",
       "4    38.149947  \n",
       "5    32.949782  \n",
       "6    38.663382  \n",
       "7    32.912731  \n",
       "8   380.427644  \n",
       "9   374.169557  \n",
       "10  379.796430  \n",
       "11  376.760580  "
      ]
     },
     "execution_count": 38,
     "metadata": {},
     "output_type": "execute_result"
    }
   ],
   "source": [
    "q16 = dict_to_df(q_dict16)\n",
    "q16"
   ]
  },
  {
   "cell_type": "code",
   "execution_count": null,
   "id": "9cb07491",
   "metadata": {},
   "outputs": [],
   "source": []
  },
  {
   "cell_type": "code",
   "execution_count": null,
   "id": "8bcf6d4b",
   "metadata": {},
   "outputs": [],
   "source": []
  },
  {
   "cell_type": "code",
   "execution_count": null,
   "id": "58a10e98",
   "metadata": {},
   "outputs": [],
   "source": []
  },
  {
   "cell_type": "code",
   "execution_count": null,
   "id": "464c6594",
   "metadata": {},
   "outputs": [],
   "source": []
  },
  {
   "cell_type": "code",
   "execution_count": null,
   "id": "fbe9a71b",
   "metadata": {},
   "outputs": [],
   "source": []
  },
  {
   "cell_type": "code",
   "execution_count": null,
   "id": "b8d54719",
   "metadata": {},
   "outputs": [],
   "source": []
  },
  {
   "cell_type": "code",
   "execution_count": null,
   "id": "17b6157e",
   "metadata": {},
   "outputs": [],
   "source": []
  },
  {
   "cell_type": "code",
   "execution_count": null,
   "id": "9d24951f",
   "metadata": {},
   "outputs": [],
   "source": []
  },
  {
   "cell_type": "code",
   "execution_count": null,
   "id": "0727f25f",
   "metadata": {},
   "outputs": [],
   "source": []
  },
  {
   "cell_type": "code",
   "execution_count": null,
   "id": "10adc1a5",
   "metadata": {},
   "outputs": [],
   "source": []
  }
 ],
 "metadata": {
  "kernelspec": {
   "display_name": "Python 3",
   "language": "python",
   "name": "python3"
  },
  "language_info": {
   "codemirror_mode": {
    "name": "ipython",
    "version": 3
   },
   "file_extension": ".py",
   "mimetype": "text/x-python",
   "name": "python",
   "nbconvert_exporter": "python",
   "pygments_lexer": "ipython3",
   "version": "3.8.8"
  }
 },
 "nbformat": 4,
 "nbformat_minor": 5
}
