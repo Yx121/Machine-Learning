{
 "cells": [
  {
   "cell_type": "code",
   "execution_count": 1,
   "id": "5cb0827b",
   "metadata": {},
   "outputs": [],
   "source": [
    "import gym\n",
    "import random\n",
    "import numpy as np\n",
    "import pandas as pd\n",
    "from datetime import timedelta\n",
    "from timeit import default_timer as timer\n",
    "import seaborn as sns\n",
    "import matplotlib.pylab as plt\n",
    "%matplotlib inline\n",
    "id = 903657078"
   ]
  },
  {
   "cell_type": "code",
   "execution_count": 2,
   "id": "f164b46a",
   "metadata": {},
   "outputs": [],
   "source": [
    "from gym.envs.toy_text.frozen_lake import generate_random_map, FrozenLakeEnv\n",
    "np.random.seed(id)\n",
    "sixteen = generate_random_map(16)\n",
    "MAPS = {\n",
    "    \"4x4\": [\n",
    "        \"SFFF\",\n",
    "        \"FHFH\",\n",
    "        \"FFFH\",\n",
    "        \"HFFG\"\n",
    "    ],\n",
    "    \"16x16\": sixteen\n",
    "}"
   ]
  },
  {
   "cell_type": "code",
   "execution_count": 3,
   "id": "1b5bb697",
   "metadata": {},
   "outputs": [],
   "source": [
    "def test_policy(env, policy, n_epoch=1000):\n",
    "    rewards = []\n",
    "    episode_counts = []\n",
    "    for i in range(n_epoch):\n",
    "        current_state = env.reset()\n",
    "        ep = 0\n",
    "        done = False\n",
    "        episode_reward = 0\n",
    "        while not done and ep < 10000:\n",
    "            ep += 1\n",
    "            act = int(policy[current_state])\n",
    "            new_state, reward, done, _ = env.step(act)\n",
    "            episode_reward += reward\n",
    "            current_state = new_state\n",
    "        rewards.append(episode_reward)\n",
    "        episode_counts.append(ep)\n",
    "    \n",
    "    # all done\n",
    "    mean_reward = sum(rewards)/len(rewards)\n",
    "    mean_eps = sum(episode_counts)/len(episode_counts)\n",
    "    return mean_reward, mean_eps, rewards, episode_counts "
   ]
  },
  {
   "cell_type": "code",
   "execution_count": 4,
   "id": "4db6f18a",
   "metadata": {},
   "outputs": [],
   "source": [
    "def q_learning(env, discount=0.9, total_episodes=1e5, alpha=0.1, decay_rate=None,\n",
    "               min_epsilon=0.01):\n",
    "    \n",
    "    start = timer()\n",
    "    \n",
    "    number_of_states = env.observation_space.n\n",
    "    number_of_actions = env.action_space.n\n",
    "    \n",
    "    qtable = np.zeros((number_of_states, number_of_actions))\n",
    "    learning_rate = alpha\n",
    "    gamma = discount\n",
    "\n",
    "    # exploration parameter\n",
    "    epsilon = 1.0\n",
    "    max_epsilon = 1.0\n",
    "    min_epsilon = 0.01\n",
    "    \n",
    "    if not decay_rate:\n",
    "        decay_rate = 1./total_episodes\n",
    "    \n",
    "    rewards = []\n",
    "    for episode in range(int(total_episodes)):\n",
    "        # reset the environment\n",
    "        state = env.reset()\n",
    "        step = 0\n",
    "        done = False\n",
    "        total_reward = 0\n",
    "        while True:\n",
    "\n",
    "            # choose an action a in the corrent world state\n",
    "            exp_exp_tradeoff = random.uniform(0,1)\n",
    "\n",
    "            # if greater than epsilon --> exploit\n",
    "            if exp_exp_tradeoff > epsilon:\n",
    "                b = qtable[state, :]\n",
    "                action = np.random.choice(np.where(b == b.max())[0])\n",
    "#                 action = np.argmax(qtable[state, :])\n",
    "            # else choose exploration\n",
    "            else:\n",
    "                action = env.action_space.sample()\n",
    "\n",
    "            # take action (a) and observe the outcome state (s') and reward (r)    \n",
    "            new_state, reward, done, info = env.step(action)\n",
    "            total_reward += reward\n",
    "            # update Q(s,a) := Q(s,a) + lr [R(s,a) + gamma * max(Q (s', a') - Q(s,a))]\n",
    "            if not done:\n",
    "                qtable[state, action] = qtable[state, action] + learning_rate*(reward + gamma*np.max(qtable[new_state, :]) - qtable[state, action])\n",
    "            else:\n",
    "                qtable[state, action] = qtable[state,action] + learning_rate*(reward - qtable[state,action])\n",
    "\n",
    "            # change state\n",
    "            state = new_state\n",
    "\n",
    "            # is it Done\n",
    "            if done:\n",
    "                break\n",
    "                \n",
    "        # reduce epsilon \n",
    "        rewards.append(total_reward)\n",
    "        epsilon = max(max_epsilon -  decay_rate * episode, min_epsilon) \n",
    "    #     print (epsilon)\n",
    "    \n",
    "    end = timer()\n",
    "    time_spent = timedelta(seconds=end-start)\n",
    "    print(\"Solved in: {} episodes and {} seconds\".format(total_episodes, time_spent))\n",
    "    return np.argmax(qtable, axis=1), total_episodes, time_spent, qtable, rewards"
   ]
  },
  {
   "cell_type": "code",
   "execution_count": 5,
   "id": "cab1e1d1",
   "metadata": {},
   "outputs": [],
   "source": [
    "def train_and_test_q_learning(env, discount=[0.9], total_episodes=[1e5], alphas=[0.1], decay_rates=[0.01], mute=False):\n",
    "    \n",
    "    min_epsilon = 0.01\n",
    "    \n",
    "    q_dict = {}\n",
    "    for dis in discount:\n",
    "        q_dict[dis] = {}\n",
    "        for eps in total_episodes:\n",
    "            q_dict[dis][eps] = {}\n",
    "            for alpha in alphas:\n",
    "                q_dict[dis][eps][alpha] = {}\n",
    "                for dr in decay_rates:\n",
    "                    q_dict[dis][eps][alpha][dr] = {}\n",
    "                    \n",
    "                    # run q_learning\n",
    "                    q_policy, q_solve_iter, q_solve_time, q_table, rewards = q_learning(env, dis, eps, alpha, dr, min_epsilon)\n",
    "                    q_mrews, q_meps, _, __ = test_policy(env, q_policy)\n",
    "                    q_dict[dis][eps][alpha][dr][\"mean_reward\"] = q_mrews\n",
    "                    q_dict[dis][eps][alpha][dr][\"mean_eps\"] = q_meps\n",
    "                    q_dict[dis][eps][alpha][dr][\"q-table\"] = q_table\n",
    "                    q_dict[dis][eps][alpha][dr][\"rewards\"] = rewards \n",
    "                    q_dict[dis][eps][alpha][dr][\"iteration\"] = q_solve_iter\n",
    "                    q_dict[dis][eps][alpha][dr][\"time_spent\"] = q_solve_time\n",
    "                    q_dict[dis][eps][alpha][dr][\"policy\"] = q_policy\n",
    "                    if not mute:\n",
    "                        print(\"gamma: {} total_eps: {} lr: {}, dr: {}\".format(dis, eps, alpha, dr))\n",
    "                        print(\"Iteration: {} time: {}\".format(q_solve_iter, q_solve_time))\n",
    "                        print(\"Mean reward: {} - mean eps: {}\".format(q_mrews, q_meps))\n",
    "    return q_dict"
   ]
  },
  {
   "cell_type": "code",
   "execution_count": 6,
   "id": "26e3d9ca",
   "metadata": {},
   "outputs": [],
   "source": [
    "def map_discretize(the_map):\n",
    "    size = len(the_map)\n",
    "    dis_map = np.zeros((size,size))\n",
    "    for i, row in enumerate(the_map):\n",
    "        for j, loc in enumerate(row):\n",
    "            if loc == \"S\":\n",
    "                dis_map[i, j] = 0\n",
    "            elif loc == \"F\":\n",
    "                dis_map[i, j] = 0\n",
    "            elif loc == \"H\":\n",
    "                dis_map[i, j] = -1\n",
    "            elif loc == \"G\":\n",
    "                dis_map[i, j] = 1\n",
    "    return dis_map\n",
    "\n",
    "\n",
    "def policy_numpy(policy):\n",
    "    size = int(np.sqrt(len(policy)))\n",
    "    pol = np.asarray(policy)\n",
    "    pol = pol.reshape((size, size))\n",
    "    return pol\n",
    "\n",
    "\n",
    "def see_policy(map_size, policy):\n",
    "    map_name = str(map_size)+\"x\"+str(map_size)\n",
    "    data = map_discretize(MAPS[map_name])\n",
    "    np_pol = policy_numpy(policy)\n",
    "    plt.imshow(data, interpolation=\"nearest\", cmap='ocean')\n",
    "\n",
    "    for i in range(np_pol[0].size):\n",
    "        for j in range(np_pol[0].size):\n",
    "            arrow = '\\u2190'\n",
    "            if np_pol[i, j] == 1:\n",
    "                arrow = '\\u2193'\n",
    "            elif np_pol[i, j] == 2:\n",
    "                arrow = '\\u2192'\n",
    "            elif np_pol[i, j] == 3:\n",
    "                arrow = '\\u2191'\n",
    "            text = plt.text(j, i, arrow,\n",
    "                           ha=\"center\", va=\"center\", color=\"r\")\n",
    "    plt.show()"
   ]
  },
  {
   "cell_type": "code",
   "execution_count": 7,
   "id": "cb7180d0",
   "metadata": {},
   "outputs": [],
   "source": [
    "def dict_to_df(the_dict):\n",
    "    the_df = pd.DataFrame(columns=[\"Discount Rate\", \"Training Iterations\", \"Learning Rate\", \n",
    "                                   \"Decay Rate\", \"Reward\", \"Time Spent\"])\n",
    "    for dis in the_dict:\n",
    "        for eps in the_dict[dis]:\n",
    "            for lr in the_dict[dis][eps]:\n",
    "                for dr in the_dict[dis][eps][lr]:\n",
    "                    rew = the_dict[dis][eps][lr][dr][\"mean_reward\"]\n",
    "                    time_spent = the_dict[dis][eps][lr][dr][\"time_spent\"].total_seconds()\n",
    "                    dic = {\"Discount Rate\": dis, \"Training Iterations\": eps, \"Learning Rate\":lr, \n",
    "                           \"Decay Rate\":dr, \"Reward\": rew, \"Time Spent\": time_spent}\n",
    "                    the_df = the_df.append(dic, ignore_index=True)\n",
    "    return the_df"
   ]
  },
  {
   "cell_type": "code",
   "execution_count": 8,
   "id": "0be6f23a",
   "metadata": {},
   "outputs": [],
   "source": [
    "import numpy as np\n",
    "def running_mean(x, N):\n",
    "    cumsum = np.cumsum(np.insert(x, 0, 0)) \n",
    "    return (cumsum[N:] - cumsum[:-N]) / float(N)"
   ]
  },
  {
   "cell_type": "code",
   "execution_count": 9,
   "id": "8988dc67",
   "metadata": {},
   "outputs": [
    {
     "name": "stdout",
     "output_type": "stream",
     "text": [
      "Solved in: 10000.0 episodes and 0:00:01.367948 seconds\n",
      "gamma: 0.5 total_eps: 10000.0 lr: 0.01, dr: 1e-06\n",
      "Iteration: 10000.0 time: 0:00:01.367948\n",
      "Mean reward: 0.088 - mean eps: 8.042\n",
      "Solved in: 10000.0 episodes and 0:00:01.391965 seconds\n",
      "gamma: 0.5 total_eps: 10000.0 lr: 0.1, dr: 1e-06\n",
      "Iteration: 10000.0 time: 0:00:01.391965\n",
      "Mean reward: 0.077 - mean eps: 12.419\n",
      "Solved in: 100000.0 episodes and 0:00:14.009898 seconds\n",
      "gamma: 0.5 total_eps: 100000.0 lr: 0.01, dr: 1e-06\n",
      "Iteration: 100000.0 time: 0:00:14.009898\n",
      "Mean reward: 0.458 - mean eps: 27.496\n",
      "Solved in: 100000.0 episodes and 0:00:13.689072 seconds\n",
      "gamma: 0.5 total_eps: 100000.0 lr: 0.1, dr: 1e-06\n",
      "Iteration: 100000.0 time: 0:00:13.689072\n",
      "Mean reward: 0.098 - mean eps: 9.757\n",
      "Solved in: 1000000.0 episodes and 0:03:31.204478 seconds\n",
      "gamma: 0.5 total_eps: 1000000.0 lr: 0.01, dr: 1e-06\n",
      "Iteration: 1000000.0 time: 0:03:31.204478\n",
      "Mean reward: 0.507 - mean eps: 31.331\n",
      "Solved in: 1000000.0 episodes and 0:02:57.378062 seconds\n",
      "gamma: 0.5 total_eps: 1000000.0 lr: 0.1, dr: 1e-06\n",
      "Iteration: 1000000.0 time: 0:02:57.378062\n",
      "Mean reward: 0.043 - mean eps: 8.039\n",
      "Solved in: 10000.0 episodes and 0:00:01.365898 seconds\n",
      "gamma: 0.7 total_eps: 10000.0 lr: 0.01, dr: 1e-06\n",
      "Iteration: 10000.0 time: 0:00:01.365898\n",
      "Mean reward: 0.121 - mean eps: 13.834\n",
      "Solved in: 10000.0 episodes and 0:00:01.367675 seconds\n",
      "gamma: 0.7 total_eps: 10000.0 lr: 0.1, dr: 1e-06\n",
      "Iteration: 10000.0 time: 0:00:01.367675\n",
      "Mean reward: 0.094 - mean eps: 13.227\n",
      "Solved in: 100000.0 episodes and 0:00:14.058076 seconds\n",
      "gamma: 0.7 total_eps: 100000.0 lr: 0.01, dr: 1e-06\n",
      "Iteration: 100000.0 time: 0:00:14.058076\n",
      "Mean reward: 0.274 - mean eps: 22.145\n",
      "Solved in: 100000.0 episodes and 0:00:13.892598 seconds\n",
      "gamma: 0.7 total_eps: 100000.0 lr: 0.1, dr: 1e-06\n",
      "Iteration: 100000.0 time: 0:00:13.892598\n",
      "Mean reward: 0.059 - mean eps: 6.925\n",
      "Solved in: 1000000.0 episodes and 0:04:25.478551 seconds\n",
      "gamma: 0.7 total_eps: 1000000.0 lr: 0.01, dr: 1e-06\n",
      "Iteration: 1000000.0 time: 0:04:25.478551\n",
      "Mean reward: 0.372 - mean eps: 27.329\n",
      "Solved in: 1000000.0 episodes and 0:03:34.054314 seconds\n",
      "gamma: 0.7 total_eps: 1000000.0 lr: 0.1, dr: 1e-06\n",
      "Iteration: 1000000.0 time: 0:03:34.054314\n",
      "Mean reward: 0.096 - mean eps: 8.741\n",
      "Solved in: 10000.0 episodes and 0:00:01.366590 seconds\n",
      "gamma: 0.9 total_eps: 10000.0 lr: 0.01, dr: 1e-06\n",
      "Iteration: 10000.0 time: 0:00:01.366590\n",
      "Mean reward: 0.417 - mean eps: 28.123\n",
      "Solved in: 10000.0 episodes and 0:00:01.356639 seconds\n",
      "gamma: 0.9 total_eps: 10000.0 lr: 0.1, dr: 1e-06\n",
      "Iteration: 10000.0 time: 0:00:01.356639\n",
      "Mean reward: 0.235 - mean eps: 18.581\n",
      "Solved in: 100000.0 episodes and 0:00:14.276052 seconds\n",
      "gamma: 0.9 total_eps: 100000.0 lr: 0.01, dr: 1e-06\n",
      "Iteration: 100000.0 time: 0:00:14.276052\n",
      "Mean reward: 0.62 - mean eps: 40.479\n",
      "Solved in: 100000.0 episodes and 0:00:14.164022 seconds\n",
      "gamma: 0.9 total_eps: 100000.0 lr: 0.1, dr: 1e-06\n",
      "Iteration: 100000.0 time: 0:00:14.164022\n",
      "Mean reward: 0.171 - mean eps: 14.357\n",
      "Solved in: 1000000.0 episodes and 0:05:31.683552 seconds\n",
      "gamma: 0.9 total_eps: 1000000.0 lr: 0.01, dr: 1e-06\n",
      "Iteration: 1000000.0 time: 0:05:31.683552\n",
      "Mean reward: 0.724 - mean eps: 41.023\n",
      "Solved in: 1000000.0 episodes and 0:04:48.912575 seconds\n",
      "gamma: 0.9 total_eps: 1000000.0 lr: 0.1, dr: 1e-06\n",
      "Iteration: 1000000.0 time: 0:04:48.912575\n",
      "Mean reward: 0.512 - mean eps: 30.686\n",
      "Solved in: 10000.0 episodes and 0:00:01.320594 seconds\n",
      "gamma: 0.99 total_eps: 10000.0 lr: 0.01, dr: 1e-06\n",
      "Iteration: 10000.0 time: 0:00:01.320594\n",
      "Mean reward: 0.51 - mean eps: 34.036\n",
      "Solved in: 10000.0 episodes and 0:00:01.366731 seconds\n",
      "gamma: 0.99 total_eps: 10000.0 lr: 0.1, dr: 1e-06\n",
      "Iteration: 10000.0 time: 0:00:01.366731\n",
      "Mean reward: 0.725 - mean eps: 41.751\n",
      "Solved in: 100000.0 episodes and 0:00:14.091335 seconds\n",
      "gamma: 0.99 total_eps: 100000.0 lr: 0.01, dr: 1e-06\n",
      "Iteration: 100000.0 time: 0:00:14.091335\n",
      "Mean reward: 0.732 - mean eps: 46.168\n",
      "Solved in: 100000.0 episodes and 0:00:14.153917 seconds\n",
      "gamma: 0.99 total_eps: 100000.0 lr: 0.1, dr: 1e-06\n",
      "Iteration: 100000.0 time: 0:00:14.153917\n",
      "Mean reward: 0.745 - mean eps: 46.738\n",
      "Solved in: 1000000.0 episodes and 0:06:07.186379 seconds\n",
      "gamma: 0.99 total_eps: 1000000.0 lr: 0.01, dr: 1e-06\n",
      "Iteration: 1000000.0 time: 0:06:07.186379\n",
      "Mean reward: 0.736 - mean eps: 45.587\n",
      "Solved in: 1000000.0 episodes and 8:13:27.487422 seconds\n",
      "gamma: 0.99 total_eps: 1000000.0 lr: 0.1, dr: 1e-06\n",
      "Iteration: 1000000.0 time: 8:13:27.487422\n",
      "Mean reward: 0.549 - mean eps: 61.948\n"
     ]
    }
   ],
   "source": [
    "env = gym.make('FrozenLake-v1')\n",
    "episodes = [1e4, 1e5, 1e6]\n",
    "decays = [1e-6]\n",
    "\n",
    "q_dict = train_and_test_q_learning(env, discount=[0.5, 0.7, 0.9, 0.99], total_episodes=episodes,\n",
    "                          alphas=[0.01, 0.1], decay_rates=decays)"
   ]
  },
  {
   "cell_type": "code",
   "execution_count": 10,
   "id": "b386ad3b",
   "metadata": {},
   "outputs": [
    {
     "data": {
      "image/png": "[encoded data removed]",
      "text/plain": [
       "<Figure size 432x288 with 1 Axes>"
      ]
     },
     "metadata": {
      "needs_background": "light"
     },
     "output_type": "display_data"
    }
   ],
   "source": [
    "pol = q_dict[0.99][int(1e6)][0.1][1e-06]['policy']\n",
    "see_policy(4, pol)"
   ]
  },
  {
   "cell_type": "code",
   "execution_count": 11,
   "id": "6855fadf",
   "metadata": {},
   "outputs": [
    {
     "name": "stdout",
     "output_type": "stream",
     "text": [
      "Solved in: 10000.0 episodes and 0:00:08.892006 seconds\n",
      "gamma: 0.99 total_eps: 10000.0 lr: 0.1, dr: 0.001\n",
      "Iteration: 10000.0 time: 0:00:08.892006\n",
      "Mean reward: 0.718 - mean eps: 41.16\n",
      "Solved in: 10000.0 episodes and 0:00:01.475266 seconds\n",
      "gamma: 0.99 total_eps: 10000.0 lr: 0.1, dr: 1e-05\n",
      "Iteration: 10000.0 time: 0:00:01.475266\n",
      "Mean reward: 0.727 - mean eps: 40.735\n",
      "Solved in: 10000.0 episodes and 0:00:02.368144 seconds\n",
      "gamma: 0.99 total_eps: 10000.0 lr: 0.01, dr: 0.001\n",
      "Iteration: 10000.0 time: 0:00:02.368144\n",
      "Mean reward: 0.097 - mean eps: 9.834\n",
      "Solved in: 10000.0 episodes and 0:00:01.446217 seconds\n",
      "gamma: 0.99 total_eps: 10000.0 lr: 0.01, dr: 1e-05\n",
      "Iteration: 10000.0 time: 0:00:01.446217\n",
      "Mean reward: 0.514 - mean eps: 33.937\n",
      "Solved in: 100000.0 episodes and 0:01:33.462605 seconds\n",
      "gamma: 0.99 total_eps: 100000.0 lr: 0.1, dr: 0.001\n",
      "Iteration: 100000.0 time: 0:01:33.462605\n",
      "Mean reward: 0.751 - mean eps: 41.513\n",
      "Solved in: 100000.0 episodes and 0:00:38.057030 seconds\n",
      "gamma: 0.99 total_eps: 100000.0 lr: 0.1, dr: 1e-05\n",
      "Iteration: 100000.0 time: 0:00:38.057030\n",
      "Mean reward: 0.722 - mean eps: 45.069\n",
      "Solved in: 100000.0 episodes and 0:00:52.052706 seconds\n",
      "gamma: 0.99 total_eps: 100000.0 lr: 0.01, dr: 0.001\n",
      "Iteration: 100000.0 time: 0:00:52.052706\n",
      "Mean reward: 0.194 - mean eps: 27.117\n",
      "Solved in: 100000.0 episodes and 0:00:37.220187 seconds\n",
      "gamma: 0.99 total_eps: 100000.0 lr: 0.01, dr: 1e-05\n",
      "Iteration: 100000.0 time: 0:00:37.220187\n",
      "Mean reward: 0.744 - mean eps: 44.123\n",
      "Solved in: 1000000.0 episodes and 0:16:58.578890 seconds\n",
      "gamma: 0.99 total_eps: 1000000.0 lr: 0.1, dr: 0.001\n",
      "Iteration: 1000000.0 time: 0:16:58.578890\n",
      "Mean reward: 0.724 - mean eps: 44.3\n",
      "Solved in: 1000000.0 episodes and 0:15:57.502382 seconds\n",
      "gamma: 0.99 total_eps: 1000000.0 lr: 0.1, dr: 1e-05\n",
      "Iteration: 1000000.0 time: 0:15:57.502382\n",
      "Mean reward: 0.761 - mean eps: 44.024\n",
      "Solved in: 1000000.0 episodes and 0:15:40.829594 seconds\n",
      "gamma: 0.99 total_eps: 1000000.0 lr: 0.01, dr: 0.001\n",
      "Iteration: 1000000.0 time: 0:15:40.829594\n",
      "Mean reward: 0.722 - mean eps: 40.52\n",
      "Solved in: 1000000.0 episodes and 0:16:30.677938 seconds\n",
      "gamma: 0.99 total_eps: 1000000.0 lr: 0.01, dr: 1e-05\n",
      "Iteration: 1000000.0 time: 0:16:30.677938\n",
      "Mean reward: 0.731 - mean eps: 43.79\n"
     ]
    }
   ],
   "source": [
    "episodes = [1e4, 1e5, 1e6]\n",
    "decays = [1e-3, 1e-5]\n",
    "q_dict = train_and_test_q_learning(env, discount= [0.99], total_episodes=episodes,\n",
    "                          alphas=[0.1, 0.01], decay_rates=decays)"
   ]
  },
  {
   "cell_type": "code",
   "execution_count": 12,
   "id": "6dccef26",
   "metadata": {},
   "outputs": [
    {
     "name": "stderr",
     "output_type": "stream",
     "text": [
      "D:\\App\\anaconda3\\lib\\site-packages\\seaborn\\_decorators.py:36: FutureWarning: Pass the following variables as keyword args: x, y. From version 0.12, the only valid positional argument will be `data`, and passing other arguments without an explicit keyword will result in an error or misinterpretation.\n",
      "  warnings.warn(\n"
     ]
    },
    {
     "data": {
      "text/plain": [
       "<AxesSubplot:>"
      ]
     },
     "execution_count": 12,
     "metadata": {},
     "output_type": "execute_result"
    },
    {
     "data": {
      "image/png": "[encoded data removed]",
      "text/plain": [
       "<Figure size 432x288 with 1 Axes>"
      ]
     },
     "metadata": {
      "needs_background": "light"
     },
     "output_type": "display_data"
    }
   ],
   "source": [
    "rews = q_dict[0.99][int(1e6)][0.1][1e-03]['rewards']\n",
    "run = 1000\n",
    "rew_running = running_mean(rews, run)\n",
    "indices = [i+run for i in list(range(len(rew_running)))]\n",
    "sns.lineplot(np.log10(indices), rew_running, color='g')"
   ]
  },
  {
   "cell_type": "code",
   "execution_count": 13,
   "id": "000b7b3a",
   "metadata": {},
   "outputs": [
    {
     "name": "stderr",
     "output_type": "stream",
     "text": [
      "D:\\App\\anaconda3\\lib\\site-packages\\seaborn\\_decorators.py:36: FutureWarning: Pass the following variables as keyword args: x, y. From version 0.12, the only valid positional argument will be `data`, and passing other arguments without an explicit keyword will result in an error or misinterpretation.\n",
      "  warnings.warn(\n"
     ]
    },
    {
     "data": {
      "text/plain": [
       "<AxesSubplot:>"
      ]
     },
     "execution_count": 13,
     "metadata": {},
     "output_type": "execute_result"
    },
    {
     "data": {
      "image/png": "[encoded data removed]",
      "text/plain": [
       "<Figure size 432x288 with 1 Axes>"
      ]
     },
     "metadata": {
      "needs_background": "light"
     },
     "output_type": "display_data"
    }
   ],
   "source": [
    "rews = q_dict[0.99][int(1e6)][0.01][1e-03]['rewards']\n",
    "run = 1000\n",
    "rew_running = running_mean(rews, run)\n",
    "indices = [i+run for i in list(range(len(rew_running)))]\n",
    "sns.lineplot(np.log10(indices), rew_running, color='r')"
   ]
  },
  {
   "cell_type": "code",
   "execution_count": 14,
   "id": "8d92b4e3",
   "metadata": {},
   "outputs": [
    {
     "name": "stderr",
     "output_type": "stream",
     "text": [
      "D:\\App\\anaconda3\\lib\\site-packages\\seaborn\\_decorators.py:36: FutureWarning: Pass the following variables as keyword args: x, y. From version 0.12, the only valid positional argument will be `data`, and passing other arguments without an explicit keyword will result in an error or misinterpretation.\n",
      "  warnings.warn(\n"
     ]
    },
    {
     "data": {
      "text/plain": [
       "<AxesSubplot:>"
      ]
     },
     "execution_count": 14,
     "metadata": {},
     "output_type": "execute_result"
    },
    {
     "data": {
      "image/png": "[encoded data removed]",
      "text/plain": [
       "<Figure size 432x288 with 1 Axes>"
      ]
     },
     "metadata": {
      "needs_background": "light"
     },
     "output_type": "display_data"
    }
   ],
   "source": [
    "rews = q_dict[0.99][int(1e6)][0.01][1e-05]['rewards']\n",
    "run = 1000\n",
    "rew_running = running_mean(rews, run)\n",
    "indices = [i+run for i in list(range(len(rew_running)))]\n",
    "sns.lineplot(np.log10(indices), rew_running, color='b')"
   ]
  },
  {
   "cell_type": "code",
   "execution_count": 15,
   "id": "2ab32073",
   "metadata": {},
   "outputs": [
    {
     "data": {
      "image/png": "[encoded data removed]",
      "text/plain": [
       "<Figure size 864x576 with 1 Axes>"
      ]
     },
     "metadata": {
      "needs_background": "light"
     },
     "output_type": "display_data"
    }
   ],
   "source": [
    "q4 = dict_to_df(q_dict)\n",
    "# plt.figure(figsize=(12, 8))\n",
    "pl = sns.lineplot(x=\"Training Iterations\", y=\"Reward\", data=q4)\n",
    "pl.figure.set_figwidth(12)\n",
    "pl.figure.set_figheight(8)"
   ]
  },
  {
   "cell_type": "code",
   "execution_count": 16,
   "id": "e6412343",
   "metadata": {},
   "outputs": [
    {
     "data": {
      "text/html": [
       "<div>\n",
       "<style scoped>\n",
       "    .dataframe tbody tr th:only-of-type {\n",
       "        vertical-align: middle;\n",
       "    }\n",
       "\n",
       "    .dataframe tbody tr th {\n",
       "        vertical-align: top;\n",
       "    }\n",
       "\n",
       "    .dataframe thead th {\n",
       "        text-align: right;\n",
       "    }\n",
       "</style>\n",
       "<table border=\"1\" class=\"dataframe\">\n",
       "  <thead>\n",
       "    <tr style=\"text-align: right;\">\n",
       "      <th></th>\n",
       "      <th>Discount Rate</th>\n",
       "      <th>Training Iterations</th>\n",
       "      <th>Learning Rate</th>\n",
       "      <th>Decay Rate</th>\n",
       "      <th>Reward</th>\n",
       "      <th>Time Spent</th>\n",
       "    </tr>\n",
       "  </thead>\n",
       "  <tbody>\n",
       "    <tr>\n",
       "      <th>0</th>\n",
       "      <td>0.99</td>\n",
       "      <td>10000.0</td>\n",
       "      <td>0.10</td>\n",
       "      <td>0.00100</td>\n",
       "      <td>0.718</td>\n",
       "      <td>8.892006</td>\n",
       "    </tr>\n",
       "    <tr>\n",
       "      <th>1</th>\n",
       "      <td>0.99</td>\n",
       "      <td>10000.0</td>\n",
       "      <td>0.10</td>\n",
       "      <td>0.00001</td>\n",
       "      <td>0.727</td>\n",
       "      <td>1.475266</td>\n",
       "    </tr>\n",
       "    <tr>\n",
       "      <th>2</th>\n",
       "      <td>0.99</td>\n",
       "      <td>10000.0</td>\n",
       "      <td>0.01</td>\n",
       "      <td>0.00100</td>\n",
       "      <td>0.097</td>\n",
       "      <td>2.368144</td>\n",
       "    </tr>\n",
       "    <tr>\n",
       "      <th>3</th>\n",
       "      <td>0.99</td>\n",
       "      <td>10000.0</td>\n",
       "      <td>0.01</td>\n",
       "      <td>0.00001</td>\n",
       "      <td>0.514</td>\n",
       "      <td>1.446217</td>\n",
       "    </tr>\n",
       "    <tr>\n",
       "      <th>4</th>\n",
       "      <td>0.99</td>\n",
       "      <td>100000.0</td>\n",
       "      <td>0.10</td>\n",
       "      <td>0.00100</td>\n",
       "      <td>0.751</td>\n",
       "      <td>93.462605</td>\n",
       "    </tr>\n",
       "    <tr>\n",
       "      <th>5</th>\n",
       "      <td>0.99</td>\n",
       "      <td>100000.0</td>\n",
       "      <td>0.10</td>\n",
       "      <td>0.00001</td>\n",
       "      <td>0.722</td>\n",
       "      <td>38.057030</td>\n",
       "    </tr>\n",
       "    <tr>\n",
       "      <th>6</th>\n",
       "      <td>0.99</td>\n",
       "      <td>100000.0</td>\n",
       "      <td>0.01</td>\n",
       "      <td>0.00100</td>\n",
       "      <td>0.194</td>\n",
       "      <td>52.052706</td>\n",
       "    </tr>\n",
       "    <tr>\n",
       "      <th>7</th>\n",
       "      <td>0.99</td>\n",
       "      <td>100000.0</td>\n",
       "      <td>0.01</td>\n",
       "      <td>0.00001</td>\n",
       "      <td>0.744</td>\n",
       "      <td>37.220187</td>\n",
       "    </tr>\n",
       "    <tr>\n",
       "      <th>8</th>\n",
       "      <td>0.99</td>\n",
       "      <td>1000000.0</td>\n",
       "      <td>0.10</td>\n",
       "      <td>0.00100</td>\n",
       "      <td>0.724</td>\n",
       "      <td>1018.578890</td>\n",
       "    </tr>\n",
       "    <tr>\n",
       "      <th>9</th>\n",
       "      <td>0.99</td>\n",
       "      <td>1000000.0</td>\n",
       "      <td>0.10</td>\n",
       "      <td>0.00001</td>\n",
       "      <td>0.761</td>\n",
       "      <td>957.502382</td>\n",
       "    </tr>\n",
       "    <tr>\n",
       "      <th>10</th>\n",
       "      <td>0.99</td>\n",
       "      <td>1000000.0</td>\n",
       "      <td>0.01</td>\n",
       "      <td>0.00100</td>\n",
       "      <td>0.722</td>\n",
       "      <td>940.829594</td>\n",
       "    </tr>\n",
       "    <tr>\n",
       "      <th>11</th>\n",
       "      <td>0.99</td>\n",
       "      <td>1000000.0</td>\n",
       "      <td>0.01</td>\n",
       "      <td>0.00001</td>\n",
       "      <td>0.731</td>\n",
       "      <td>990.677938</td>\n",
       "    </tr>\n",
       "  </tbody>\n",
       "</table>\n",
       "</div>"
      ],
      "text/plain": [
       "    Discount Rate  Training Iterations  Learning Rate  Decay Rate  Reward  \\\n",
       "0            0.99              10000.0           0.10     0.00100   0.718   \n",
       "1            0.99              10000.0           0.10     0.00001   0.727   \n",
       "2            0.99              10000.0           0.01     0.00100   0.097   \n",
       "3            0.99              10000.0           0.01     0.00001   0.514   \n",
       "4            0.99             100000.0           0.10     0.00100   0.751   \n",
       "5            0.99             100000.0           0.10     0.00001   0.722   \n",
       "6            0.99             100000.0           0.01     0.00100   0.194   \n",
       "7            0.99             100000.0           0.01     0.00001   0.744   \n",
       "8            0.99            1000000.0           0.10     0.00100   0.724   \n",
       "9            0.99            1000000.0           0.10     0.00001   0.761   \n",
       "10           0.99            1000000.0           0.01     0.00100   0.722   \n",
       "11           0.99            1000000.0           0.01     0.00001   0.731   \n",
       "\n",
       "     Time Spent  \n",
       "0      8.892006  \n",
       "1      1.475266  \n",
       "2      2.368144  \n",
       "3      1.446217  \n",
       "4     93.462605  \n",
       "5     38.057030  \n",
       "6     52.052706  \n",
       "7     37.220187  \n",
       "8   1018.578890  \n",
       "9    957.502382  \n",
       "10   940.829594  \n",
       "11   990.677938  "
      ]
     },
     "execution_count": 16,
     "metadata": {},
     "output_type": "execute_result"
    }
   ],
   "source": [
    "q4"
   ]
  },
  {
   "cell_type": "code",
   "execution_count": 17,
   "id": "4ceba911",
   "metadata": {},
   "outputs": [
    {
     "data": {
      "image/png": "[encoded data removed]",
      "text/plain": [
       "<Figure size 432x288 with 1 Axes>"
      ]
     },
     "metadata": {
      "needs_background": "light"
     },
     "output_type": "display_data"
    }
   ],
   "source": [
    "pol = q_dict[0.99][int(1e6)][0.01][1e-03]['policy']\n",
    "see_policy(4, pol)"
   ]
  },
  {
   "cell_type": "markdown",
   "id": "1383ef84",
   "metadata": {},
   "source": [
    "## 16x16"
   ]
  },
  {
   "cell_type": "code",
   "execution_count": 18,
   "id": "f0630ad5",
   "metadata": {},
   "outputs": [
    {
     "name": "stdout",
     "output_type": "stream",
     "text": [
      "Solved in: 10000.0 episodes and 0:00:03.672990 seconds\n",
      "gamma: 0.99 total_eps: 10000.0 lr: 0.1, dr: 0.001\n",
      "Iteration: 10000.0 time: 0:00:03.672990\n",
      "Mean reward: 0.0 - mean eps: 29.575\n",
      "Solved in: 10000.0 episodes and 0:00:02.737523 seconds\n",
      "gamma: 0.99 total_eps: 10000.0 lr: 0.1, dr: 1e-05\n",
      "Iteration: 10000.0 time: 0:00:02.737523\n",
      "Mean reward: 0.0 - mean eps: 29.391\n",
      "Solved in: 10000.0 episodes and 0:00:03.814399 seconds\n",
      "gamma: 0.99 total_eps: 10000.0 lr: 0.01, dr: 0.001\n",
      "Iteration: 10000.0 time: 0:00:03.814399\n",
      "Mean reward: 0.0 - mean eps: 31.758\n",
      "Solved in: 10000.0 episodes and 0:00:02.761805 seconds\n",
      "gamma: 0.99 total_eps: 10000.0 lr: 0.01, dr: 1e-05\n",
      "Iteration: 10000.0 time: 0:00:02.761805\n",
      "Mean reward: 0.0 - mean eps: 29.435\n",
      "Solved in: 100000.0 episodes and 0:00:38.256515 seconds\n",
      "gamma: 0.99 total_eps: 100000.0 lr: 0.1, dr: 0.001\n",
      "Iteration: 100000.0 time: 0:00:38.256515\n",
      "Mean reward: 0.0 - mean eps: 29.757\n",
      "Solved in: 100000.0 episodes and 0:00:32.938152 seconds\n",
      "gamma: 0.99 total_eps: 100000.0 lr: 0.1, dr: 1e-05\n",
      "Iteration: 100000.0 time: 0:00:32.938152\n",
      "Mean reward: 0.0 - mean eps: 28.961\n",
      "Solved in: 100000.0 episodes and 0:00:38.845153 seconds\n",
      "gamma: 0.99 total_eps: 100000.0 lr: 0.01, dr: 0.001\n",
      "Iteration: 100000.0 time: 0:00:38.845153\n",
      "Mean reward: 0.0 - mean eps: 30.46\n",
      "Solved in: 100000.0 episodes and 0:00:33.337852 seconds\n",
      "gamma: 0.99 total_eps: 100000.0 lr: 0.01, dr: 1e-05\n",
      "Iteration: 100000.0 time: 0:00:33.337852\n",
      "Mean reward: 0.0 - mean eps: 28.981\n",
      "Solved in: 1000000.0 episodes and 0:06:26.191705 seconds\n",
      "gamma: 0.99 total_eps: 1000000.0 lr: 0.1, dr: 0.001\n",
      "Iteration: 1000000.0 time: 0:06:26.191705\n",
      "Mean reward: 0.0 - mean eps: 29.727\n",
      "Solved in: 1000000.0 episodes and 0:06:20.402202 seconds\n",
      "gamma: 0.99 total_eps: 1000000.0 lr: 0.1, dr: 1e-05\n",
      "Iteration: 1000000.0 time: 0:06:20.402202\n",
      "Mean reward: 0.0 - mean eps: 29.292\n",
      "Solved in: 1000000.0 episodes and 0:06:24.725075 seconds\n",
      "gamma: 0.99 total_eps: 1000000.0 lr: 0.01, dr: 0.001\n",
      "Iteration: 1000000.0 time: 0:06:24.725075\n",
      "Mean reward: 0.0 - mean eps: 30.129\n",
      "Solved in: 1000000.0 episodes and 0:06:20.728239 seconds\n",
      "gamma: 0.99 total_eps: 1000000.0 lr: 0.01, dr: 1e-05\n",
      "Iteration: 1000000.0 time: 0:06:20.728239\n",
      "Mean reward: 0.0 - mean eps: 29.8\n"
     ]
    }
   ],
   "source": [
    "env = FrozenLakeEnv(desc=MAPS[\"16x16\"])\n",
    "episodes = [1e4, 1e5, 1e6]\n",
    "decays = [1e-3, 1e-5]\n",
    "q_dict16 = train_and_test_q_learning(env, discount= [0.99], total_episodes=episodes,\n",
    "                          alphas=[0.1, 0.01], decay_rates=decays)"
   ]
  },
  {
   "cell_type": "code",
   "execution_count": 19,
   "id": "ab1beade",
   "metadata": {},
   "outputs": [
    {
     "data": {
      "image/png": "[encoded data removed]",
      "text/plain": [
       "<Figure size 432x288 with 1 Axes>"
      ]
     },
     "metadata": {
      "needs_background": "light"
     },
     "output_type": "display_data"
    }
   ],
   "source": [
    "pol = q_dict16[0.99][int(1e6)][0.1][1e-05]['policy']\n",
    "see_policy(16, pol)"
   ]
  },
  {
   "cell_type": "code",
   "execution_count": 20,
   "id": "c6c9810c",
   "metadata": {},
   "outputs": [
    {
     "data": {
      "text/plain": [
       "False"
      ]
     },
     "execution_count": 20,
     "metadata": {},
     "output_type": "execute_result"
    }
   ],
   "source": [
    "(q_dict16[0.99][int(1e6)][0.1][1e-05]['q-table'] > 0).any()"
   ]
  },
  {
   "cell_type": "code",
   "execution_count": 21,
   "id": "eca17c48",
   "metadata": {},
   "outputs": [
    {
     "name": "stderr",
     "output_type": "stream",
     "text": [
      "D:\\App\\anaconda3\\lib\\site-packages\\seaborn\\_decorators.py:36: FutureWarning: Pass the following variables as keyword args: x, y. From version 0.12, the only valid positional argument will be `data`, and passing other arguments without an explicit keyword will result in an error or misinterpretation.\n",
      "  warnings.warn(\n"
     ]
    },
    {
     "data": {
      "text/plain": [
       "<AxesSubplot:>"
      ]
     },
     "execution_count": 21,
     "metadata": {},
     "output_type": "execute_result"
    },
    {
     "data": {
      "image/png": "[encoded data removed]",
      "text/plain": [
       "<Figure size 432x288 with 1 Axes>"
      ]
     },
     "metadata": {
      "needs_background": "light"
     },
     "output_type": "display_data"
    }
   ],
   "source": [
    "rews = q_dict16[0.99][int(1e6)][0.1][1e-05]['rewards']\n",
    "run = 1000\n",
    "rew_running = running_mean(rews, run)\n",
    "indices = [i+run for i in list(range(len(rew_running)))]\n",
    "sns.lineplot(np.log10(indices), rew_running)"
   ]
  },
  {
   "cell_type": "code",
   "execution_count": 22,
   "id": "adf02695",
   "metadata": {},
   "outputs": [
    {
     "data": {
      "text/html": [
       "<div>\n",
       "<style scoped>\n",
       "    .dataframe tbody tr th:only-of-type {\n",
       "        vertical-align: middle;\n",
       "    }\n",
       "\n",
       "    .dataframe tbody tr th {\n",
       "        vertical-align: top;\n",
       "    }\n",
       "\n",
       "    .dataframe thead th {\n",
       "        text-align: right;\n",
       "    }\n",
       "</style>\n",
       "<table border=\"1\" class=\"dataframe\">\n",
       "  <thead>\n",
       "    <tr style=\"text-align: right;\">\n",
       "      <th></th>\n",
       "      <th>Discount Rate</th>\n",
       "      <th>Training Iterations</th>\n",
       "      <th>Learning Rate</th>\n",
       "      <th>Decay Rate</th>\n",
       "      <th>Reward</th>\n",
       "      <th>Time Spent</th>\n",
       "    </tr>\n",
       "  </thead>\n",
       "  <tbody>\n",
       "    <tr>\n",
       "      <th>0</th>\n",
       "      <td>0.99</td>\n",
       "      <td>10000.0</td>\n",
       "      <td>0.10</td>\n",
       "      <td>0.00100</td>\n",
       "      <td>0.0</td>\n",
       "      <td>3.672990</td>\n",
       "    </tr>\n",
       "    <tr>\n",
       "      <th>1</th>\n",
       "      <td>0.99</td>\n",
       "      <td>10000.0</td>\n",
       "      <td>0.10</td>\n",
       "      <td>0.00001</td>\n",
       "      <td>0.0</td>\n",
       "      <td>2.737523</td>\n",
       "    </tr>\n",
       "    <tr>\n",
       "      <th>2</th>\n",
       "      <td>0.99</td>\n",
       "      <td>10000.0</td>\n",
       "      <td>0.01</td>\n",
       "      <td>0.00100</td>\n",
       "      <td>0.0</td>\n",
       "      <td>3.814399</td>\n",
       "    </tr>\n",
       "    <tr>\n",
       "      <th>3</th>\n",
       "      <td>0.99</td>\n",
       "      <td>10000.0</td>\n",
       "      <td>0.01</td>\n",
       "      <td>0.00001</td>\n",
       "      <td>0.0</td>\n",
       "      <td>2.761805</td>\n",
       "    </tr>\n",
       "    <tr>\n",
       "      <th>4</th>\n",
       "      <td>0.99</td>\n",
       "      <td>100000.0</td>\n",
       "      <td>0.10</td>\n",
       "      <td>0.00100</td>\n",
       "      <td>0.0</td>\n",
       "      <td>38.256515</td>\n",
       "    </tr>\n",
       "    <tr>\n",
       "      <th>5</th>\n",
       "      <td>0.99</td>\n",
       "      <td>100000.0</td>\n",
       "      <td>0.10</td>\n",
       "      <td>0.00001</td>\n",
       "      <td>0.0</td>\n",
       "      <td>32.938152</td>\n",
       "    </tr>\n",
       "    <tr>\n",
       "      <th>6</th>\n",
       "      <td>0.99</td>\n",
       "      <td>100000.0</td>\n",
       "      <td>0.01</td>\n",
       "      <td>0.00100</td>\n",
       "      <td>0.0</td>\n",
       "      <td>38.845153</td>\n",
       "    </tr>\n",
       "    <tr>\n",
       "      <th>7</th>\n",
       "      <td>0.99</td>\n",
       "      <td>100000.0</td>\n",
       "      <td>0.01</td>\n",
       "      <td>0.00001</td>\n",
       "      <td>0.0</td>\n",
       "      <td>33.337852</td>\n",
       "    </tr>\n",
       "    <tr>\n",
       "      <th>8</th>\n",
       "      <td>0.99</td>\n",
       "      <td>1000000.0</td>\n",
       "      <td>0.10</td>\n",
       "      <td>0.00100</td>\n",
       "      <td>0.0</td>\n",
       "      <td>386.191705</td>\n",
       "    </tr>\n",
       "    <tr>\n",
       "      <th>9</th>\n",
       "      <td>0.99</td>\n",
       "      <td>1000000.0</td>\n",
       "      <td>0.10</td>\n",
       "      <td>0.00001</td>\n",
       "      <td>0.0</td>\n",
       "      <td>380.402202</td>\n",
       "    </tr>\n",
       "    <tr>\n",
       "      <th>10</th>\n",
       "      <td>0.99</td>\n",
       "      <td>1000000.0</td>\n",
       "      <td>0.01</td>\n",
       "      <td>0.00100</td>\n",
       "      <td>0.0</td>\n",
       "      <td>384.725075</td>\n",
       "    </tr>\n",
       "    <tr>\n",
       "      <th>11</th>\n",
       "      <td>0.99</td>\n",
       "      <td>1000000.0</td>\n",
       "      <td>0.01</td>\n",
       "      <td>0.00001</td>\n",
       "      <td>0.0</td>\n",
       "      <td>380.728239</td>\n",
       "    </tr>\n",
       "  </tbody>\n",
       "</table>\n",
       "</div>"
      ],
      "text/plain": [
       "    Discount Rate  Training Iterations  Learning Rate  Decay Rate  Reward  \\\n",
       "0            0.99              10000.0           0.10     0.00100     0.0   \n",
       "1            0.99              10000.0           0.10     0.00001     0.0   \n",
       "2            0.99              10000.0           0.01     0.00100     0.0   \n",
       "3            0.99              10000.0           0.01     0.00001     0.0   \n",
       "4            0.99             100000.0           0.10     0.00100     0.0   \n",
       "5            0.99             100000.0           0.10     0.00001     0.0   \n",
       "6            0.99             100000.0           0.01     0.00100     0.0   \n",
       "7            0.99             100000.0           0.01     0.00001     0.0   \n",
       "8            0.99            1000000.0           0.10     0.00100     0.0   \n",
       "9            0.99            1000000.0           0.10     0.00001     0.0   \n",
       "10           0.99            1000000.0           0.01     0.00100     0.0   \n",
       "11           0.99            1000000.0           0.01     0.00001     0.0   \n",
       "\n",
       "    Time Spent  \n",
       "0     3.672990  \n",
       "1     2.737523  \n",
       "2     3.814399  \n",
       "3     2.761805  \n",
       "4    38.256515  \n",
       "5    32.938152  \n",
       "6    38.845153  \n",
       "7    33.337852  \n",
       "8   386.191705  \n",
       "9   380.402202  \n",
       "10  384.725075  \n",
       "11  380.728239  "
      ]
     },
     "execution_count": 22,
     "metadata": {},
     "output_type": "execute_result"
    }
   ],
   "source": [
    "q16 = dict_to_df(q_dict16)\n",
    "q16"
   ]
  },
  {
   "cell_type": "code",
   "execution_count": null,
   "id": "f4102ed4",
   "metadata": {},
   "outputs": [],
   "source": []
  }
 ],
 "metadata": {
  "kernelspec": {
   "display_name": "Python 3",
   "language": "python",
   "name": "python3"
  },
  "language_info": {
   "codemirror_mode": {
    "name": "ipython",
    "version": 3
   },
   "file_extension": ".py",
   "mimetype": "text/x-python",
   "name": "python",
   "nbconvert_exporter": "python",
   "pygments_lexer": "ipython3",
   "version": "3.8.8"
  }
 },
 "nbformat": 4,
 "nbformat_minor": 5
}
